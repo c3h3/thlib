{
 "cells": [
  {
   "cell_type": "markdown",
   "metadata": {},
   "source": [
    "#第一層"
   ]
  },
  {
   "cell_type": "code",
   "execution_count": 36,
   "metadata": {
    "collapsed": false
   },
   "outputs": [
    {
     "data": {
      "text/plain": [
       "'http://dictionary.thlib.org/definitions/browse'"
      ]
     },
     "execution_count": 36,
     "metadata": {},
     "output_type": "execute_result"
    }
   ],
   "source": [
    "\"http://dictionary.thlib.org/definitions/browse\""
   ]
  },
  {
   "cell_type": "markdown",
   "metadata": {},
   "source": [
    "# URL generator"
   ]
  },
  {
   "cell_type": "markdown",
   "metadata": {},
   "source": [
    "#Parser"
   ]
  },
  {
   "cell_type": "code",
   "execution_count": null,
   "metadata": {
    "collapsed": true
   },
   "outputs": [],
   "source": []
  },
  {
   "cell_type": "markdown",
   "metadata": {},
   "source": [
    "#第二層"
   ]
  },
  {
   "cell_type": "code",
   "execution_count": 37,
   "metadata": {
    "collapsed": false
   },
   "outputs": [
    {
     "data": {
      "text/plain": [
       "'http://dictionary.thlib.org/internal_definitions/alphabet_sub_list?letter=1&offset=13500'"
      ]
     },
     "execution_count": 37,
     "metadata": {},
     "output_type": "execute_result"
    }
   ],
   "source": [
    "'http://dictionary.thlib.org/internal_definitions/alphabet_sub_list?letter=1&offset=13500'"
   ]
  },
  {
   "cell_type": "markdown",
   "metadata": {},
   "source": [
    "# URL generator"
   ]
  },
  {
   "cell_type": "markdown",
   "metadata": {},
   "source": [
    "#Parser"
   ]
  },
  {
   "cell_type": "code",
   "execution_count": null,
   "metadata": {
    "collapsed": true
   },
   "outputs": [],
   "source": []
  },
  {
   "cell_type": "code",
   "execution_count": null,
   "metadata": {
    "collapsed": true
   },
   "outputs": [],
   "source": []
  },
  {
   "cell_type": "code",
   "execution_count": null,
   "metadata": {
    "collapsed": true
   },
   "outputs": [],
   "source": []
  },
  {
   "cell_type": "markdown",
   "metadata": {},
   "source": [
    "#第三層"
   ]
  },
  {
   "cell_type": "code",
   "execution_count": 39,
   "metadata": {
    "collapsed": false
   },
   "outputs": [
    {
     "data": {
      "text/plain": [
       "'http://dictionary.thlib.org/internal_definitions/public_term/176558?height=500&list_view=true&mode=browse&width=600&'"
      ]
     },
     "execution_count": 39,
     "metadata": {},
     "output_type": "execute_result"
    }
   ],
   "source": [
    "\"http://dictionary.thlib.org/internal_definitions/public_term/176558?height=500&list_view=true&mode=browse&width=600&\""
   ]
  },
  {
   "cell_type": "markdown",
   "metadata": {},
   "source": [
    "# URL generator"
   ]
  },
  {
   "cell_type": "markdown",
   "metadata": {},
   "source": [
    "#Parser"
   ]
  },
  {
   "cell_type": "code",
   "execution_count": null,
   "metadata": {
    "collapsed": true
   },
   "outputs": [],
   "source": []
  },
  {
   "cell_type": "code",
   "execution_count": null,
   "metadata": {
    "collapsed": true
   },
   "outputs": [],
   "source": []
  },
  {
   "cell_type": "code",
   "execution_count": null,
   "metadata": {
    "collapsed": true
   },
   "outputs": [],
   "source": []
  },
  {
   "cell_type": "markdown",
   "metadata": {},
   "source": []
  },
  {
   "cell_type": "code",
   "execution_count": null,
   "metadata": {
    "collapsed": true
   },
   "outputs": [],
   "source": []
  },
  {
   "cell_type": "code",
   "execution_count": null,
   "metadata": {
    "collapsed": true
   },
   "outputs": [],
   "source": []
  },
  {
   "cell_type": "code",
   "execution_count": 13,
   "metadata": {
    "collapsed": true
   },
   "outputs": [],
   "source": [
    "import requests\n",
    "from pyquery import PyQuery"
   ]
  },
  {
   "cell_type": "code",
   "execution_count": 14,
   "metadata": {
    "collapsed": true
   },
   "outputs": [],
   "source": [
    "res1 = requests.get(\"http://dictionary.thlib.org/definitions/browse\")"
   ]
  },
  {
   "cell_type": "code",
   "execution_count": 15,
   "metadata": {
    "collapsed": false
   },
   "outputs": [
    {
     "data": {
      "text/plain": [
       "u'\\n<!DOCTYPE html PUBLIC \"-//W3C//DTD XHTML 1.0 Transitional//EN\" \"http://www.w3.org/TR/xhtml1/DTD/xhtml1-transitional.dtd\">\\r\\n<html lang=\"en\" xml:lang=\"en\" xmlns=\"http://www.w3.org/1999/xhtml\">\\r\\n<head>\\r\\n<meta http-equiv=\"X-UA-Compatible\" content=\"IE=9\" />\\r\\n<meta http-equiv=\"Content-Type\" content=\"text/html; charset=utf-8\" />\\r\\n\\r\\n<meta http-equiv=\"imagetoolbar\" content=\"no\" />\\r\\n<meta content=\"The Tibetan and Himalayan Library is a publisher of websites, information services, and networking facilities relating to the Tibetan plateau and southern Himalayan regions. THL promotes the integration of knowledge and community across the divides of academic disciplines, the historical and the contemporary, the religious and the secular, the global and the local.\" name=\"description\" />\\r\\n<meta content=\"\" name=\"keywords\" />\\r\\n\\r\\n<script src=\"http://www.thlib.org/global/php/combineJS.php\" type=\"text/javascript\"></script><link title=\"no title\" charset=\"utf-8\" rel=\"stylesheet\" media=\"all\" type=\"text/css\" href=\"http://www.thlib.org/global/css/thdl-style.css\" /><script type=\"text/javascript\">var pgserv = \"http://www.thlib.org\";</script>\\r\\n<link rel=\"stylesheet\" media=\"all\" type=\"text/css\" href=\"http://www.thlib.org/global/css/thdl-temp.css\" />\\r\\n\\r\\n<title>Definitions: Browse</title>\\n\\n<script src=\"/javascripts/jrails.js?1281416204\" type=\"text/javascript\"></script>\\n<script src=\"/javascripts/application.js?1281416204\" type=\"text/javascript\"></script>\\n<script src=\"/javascripts/thl.js?1316569704\" type=\"text/javascript\"></script>\\n<script src=\"/javascripts/thickbox-compressed.js?1281416204\" type=\"text/javascript\"></script>\\n\\n\\n<link href=\"/stylesheets/authenticated_system.css?1315239816\" media=\"screen\" rel=\"stylesheet\" type=\"text/css\" />\\n<link href=\"/stylesheets/base.css?1281416220\" media=\"screen\" rel=\"stylesheet\" type=\"text/css\" />\\n<link href=\"/stylesheets/language_support.css?1281416220\" media=\"screen\" rel=\"stylesheet\" type=\"text/css\" />\\n<link href=\"/stylesheets/universal_navigation.css?1312393984\" media=\"screen\" rel=\"stylesheet\" type=\"text/css\" />\\n<link href=\"/stylesheets/jquery.autocomplete.css?1281416220\" media=\"screen\" rel=\"stylesheet\" type=\"text/css\" />\\n<link href=\"/stylesheets/jquery.checktree.css?1315239816\" media=\"screen\" rel=\"stylesheet\" type=\"text/css\" />\\n<link href=\"/stylesheets/thickbox.css?1315239816\" media=\"screen\" rel=\"stylesheet\" type=\"text/css\" />\\n<link href=\"/stylesheets/modalbox.css?1281416220\" media=\"screen\" rel=\"stylesheet\" type=\"text/css\" />\\n<link href=\"/stylesheets/menu.css?1281416220\" media=\"screen\" rel=\"stylesheet\" type=\"text/css\" />\\n<link href=\"http://www.thlib.org/global/css/thdl-style.css\" media=\"screen\" rel=\"stylesheet\" type=\"text/css\" />\\n<link href=\"/stylesheets/thdl_public.css?1315239816\" media=\"screen\" rel=\"stylesheet\" type=\"text/css\" />\\n<link href=\"/stylesheets/jquery-ui-tabs.css?1312393984\" media=\"screen\" rel=\"stylesheet\" type=\"text/css\" />\\n<link href=\"/stylesheets/jquery-ui.css?1320037759\" media=\"screen\" rel=\"stylesheet\" type=\"text/css\" />\\n\\n</head>\\n<body class=\"single-col reference\">\\r\\n<!-- begin masthead include -->\\r\\n<!--[if IE]><div id=\"ie-root\"><![endif]--><!--[if IE 9]><div id=\"ie-root-9\"><![endif]--><!--[if lt IE 9]><div id=\"ie-root-lt9\"><![endif]--><!--[if IE 8]><div id=\"ie-root-8\"><![endif]--><!--[if lt IE 8]><div id=\"ie-root-lt8\"><![endif]--><!--[if lte IE 8]><div id=\"ie-root-lte8\"><![endif]--><!--[if IE 7]><div id=\"ie-root-7\"><![endif]--><!--[if lt IE 7]><div id=\"ie-root-lt7\"><![endif]--><!--[if gte IE 7]><div id=\"ie-root-gte7\"><![endif]--><!--[if lte IE 7]><div id=\"ie-root-lte7\"><![endif]-->\\r\\n<p id=\"skip-links\"><a title=\"skip to content\" href=\"#content\">Skip to main content</a></p>\\r\\n<div id=\"main-wrapper\">\\r\\n<div id=\"masthead-topbar\"></div>\\r\\n<div id=\"body-wrapper\">\\r\\n<div id=\"masthead-banner\"><h1>Tibetan and Himalayan Library - THL</h1>\\r\\n\\t<div id=\"masthead-logo\"><a title=\"THL Homepage Link\" href=\"http://www.thlib.org/index.php\"><img src=\"http://www.thlib.org/global/images/logo-watermark-thl.png\" height=\"40\" alt=\"thl logo\" width=\"40\" /></a></div>\\r\\n\\t<div id=\"masthead-title\"><a title=\"THL Homepage Link\" href=\"http://www.thlib.org/index.php\"><img src=\"http://www.thlib.org/global/images/masthead-title-thl.gif\" height=\"32\" alt=\"THL Title Text\" width=\"436\" /></a></div>\\r\\n</div>\\r\\n\\r\\n<ul id=\"masthead-navbar\">\\r\\n\\t<li class=\"home alpha\"><a href=\"http://www.thlib.org/\"><em><b>Home</b></em></a></li>\\r\\n\\t<li class=\"collections\"><a href=\"http://www.thlib.org/collections/\"><em><b>Collections</b></em></a></li>\\r\\n\\t<li class=\"reference\"><a href=\"http://www.thlib.org/reference/\"><em><b>Reference</b></em></a></li>\\r\\n\\t<li class=\"places\"><a href=\"http://www.thlib.org/places/\"><em><b>Places</b></em></a></li>\\r\\n\\t<li class=\"literature\"><a href=\"http://www.thlib.org/encyclopedias/literary\"><em><b>Literature</b></em></a></li>\\r\\n\\t<!--<li class=\"education\"><a href=\"http://www.thlib.org/education/\"><em><b>Education</b></em></a></li>-->\\r\\n\\t<li class=\"community\"><a href=\"http://www.thlib.org/community/\"><em><b>Community</b></em></a></li>\\r\\n\\t<li class=\"tools\"><a href=\"http://www.thlib.org/tools/\"><em><b>Tools</b></em></a></li>\\r\\n\\t<li class=\"projects\"><a href=\"http://www.thlib.org/projects/\"><em><b>Projects</b></em></a></li>\\r\\n</ul>\\r\\n\\r\\n<div id=\"thl-translate\"><a title=\"Translate selected text (Ctrl+Alt+?)\" onclick=\"return THLTibetanTranslationPlugin.translateSelectedText();\" id=\"translate-this\" href=\"#\"></a></div>\\r\\n\\r\\n<!-- begin masthead utility -->\\r\\n<!-- begin sitemap -->\\r\\n\\t\\t<div id=\"fxSitemap\">\\r\\n\\t\\t\\t<div id=\"fxSitemapContent\">\\r\\n\\t\\t\\t\\t    <div class=\"thlmenu-eng\"><!-- english version - this is the id name that the menu calls in the html link -->\\r\\n\\t\\t\\t\\t\\t<div class=\"thlmenu\">\\r\\n\\t\\t\\t\\t\\t\\r\\n\\t\\t\\t\\t\\t<div class=\"sitemapHeader\">\\r\\n\\t\\t\\t\\t\\t\\t<p>Tibetan &amp; Himalayan Library - Index</p>\\r\\n\\t\\t\\t\\t\\t</div>\\r\\n\\t\\t\\t\\t\\t\\t\\r\\n\\t\\t\\t\\t\\t\\t<p id=\"closeSitemapX\"><a title=\"close thl index\" class=\"sitemapAction\" id=\"closeSitemap\" style=\"background-image: url(http://www.thlib.org/global/images/btn-closebox2.png);\" href=\"#\">Close</a></p>\\r\\n\\t\\t\\t\\t\\t\\r\\n\\t\\t\\t\\t\\t\\r\\n\\t\\t\\t\\t\\t<div class=\"thlmenu-border\">\\r\\n\\t<table>\\r\\n\\r\\n\\t\\t<tr>\\r\\n\\t\\t\\t<td class=\"header index-toprow\">\\r\\n\\t\\t\\t\\t<p>\\r\\n\\t\\t\\t\\t\\t<a href=\"http://www.thlib.org/\">THL Home</a>\\r\\n\\t\\t\\t\\t</p>\\r\\n\\t\\t\\t</td>\\r\\n\\r\\n\\t\\t\\t<td class=\"index-toprow\">\\r\\n\\t\\t\\t\\t<p>\\r\\n\\t\\t\\t\\t\\t<a class=\"first-link\" href=\"http://www.thlib.org/about/wiki/thdl%20home%20about%20us.html\">About\\r\\n\\t\\t\\t\\t\\t\\tUs</a>\\r\\n\\t\\t\\t\\t\\t<a href=\"http://www.thlib.org/about/wiki/thdl%20home%20overview.html\">THL Overview</a>\\r\\n\\t\\t\\t\\t\\t<a href=\"http://www.thlib.org/about/wiki/first%20time%20visitors.html\">First-Time Visitors</a>\\r\\n\\t\\t\\t\\t\\t<a href=\"http://www.thlib.org/about/wiki/guide%20to%20thdl%20resources.html\">Guide to Resources</a>\\r\\n\\t\\t\\t\\t\\t<a href=\"http://www.thlib.org/about/wiki/how%20to%20cite.html\">How to Cite</a>\\r\\n\\t\\t\\t\\t\\t<br />\\r\\n\\t\\t\\t\\t\\t<a class=\"first-link\" href=\"http://www.thlib.org/about/wiki/thdl%20home%20help.html\">Help</a>\\r\\n\\t\\t\\t\\t\\t<a href=\"http://www.thlib.org/about/wiki/how%20to%20participate.html\">Participation &amp;\\r\\n\\t\\t\\t\\t\\t\\tSupport</a>\\r\\n\\t\\t\\t\\t\\t<a href=\"http://www.thlib.org/about/wiki/thdl%20home%20sponsors.html\">Sponsors</a>\\r\\n\\t\\t\\t\\t\\t<a href=\"http://www.thlib.org/about/wiki/thdl%20status%20reports.html\">Status Reports</a>\\r\\n\\t\\t\\t\\t\\t<a href=\"http://www.thlib.org/about/wiki/thdl%20urls.html\">THL URLs</a>\\r\\n\\t\\t\\t\\t\\t<a class=\"safe-contact\" href=\"http://www.thlib.org/template/javascript:linkTo_UnCryptMailto(\\'nbjmup;uimAdpmmbc/jud/wjshjojb/fev\\');\">Contact Us</a>\\r\\n\\t\\t\\t\\t</p>\\r\\n\\t\\t\\t</td>\\r\\n\\t\\t</tr>\\r\\n\\r\\n\\t\\t<tr>\\r\\n\\t\\t\\t<td class=\"header\">\\r\\n\\t\\t\\t\\t<p>\\r\\n\\t\\t\\t\\t\\t<a href=\"http://www.thlib.org/collections/\">Collections</a>\\r\\n\\t\\t\\t\\t</p>\\r\\n\\t\\t\\t</td>\\r\\n\\r\\n\\t\\t\\t<td>\\r\\n\\t\\t\\t\\t<p>\\r\\n\\t\\t\\t\\t\\t<a class=\"first-link\" href=\"http://mms.thlib.org/\">Multimedia</a>\\r\\n\\t\\t\\t\\t\\t<a href=\"http://www.thlib.org/avarch/mediaflowcat/\">Audio &amp; Video Archive</a>\\r\\n\\t\\t\\t\\t\\t<!--when MMS comes online, change  URL for AV to /collections/media/audio-video/\"-->\\r\\n\\t\\t\\t\\t\\t<a href=\"http://mms.thlib.org/\">Photos</a>\\r\\n\\t\\t\\t\\t\\t<!--change URL for Photos to /collections/media/images/\" IF David wants to use this as portal page for photos-->\\r\\n\\t\\t\\t\\t\\t<a href=\"http://www.thlib.org/places/maps/collections/\">Maps</a>\\r\\n\\t\\t\\t\\t\\t<a href=\"http://www.thlib.org/encyclopedias/literary/\">Texts</a>\\r\\n\\t\\t\\t\\t</p>\\r\\n\\t\\t\\t</td>\\r\\n\\t\\t</tr>\\r\\n\\r\\n\\t\\t<tr>\\r\\n\\t\\t\\t<td class=\"header\">\\r\\n\\t\\t\\t\\t<p>\\r\\n\\t\\t\\t\\t\\t<a href=\"http://www.thlib.org/reference/\">Reference</a>\\r\\n\\t\\t\\t\\t</p>\\r\\n\\t\\t\\t</td>\\r\\n\\t\\t\\t<!-- temporarily links directly to SPT; when Bibliographies index.php goes live, delete the\\r\\n\\t\\t\\t<a> tag for Bibliographies that goes directly to SPT page-->\\r\\n\\t\\t\\t<td>\\r\\n\\t\\t\\t\\t<p>\\r\\n\\t\\t\\t\\t\\t<a class=\"first-link\" href=\"http://www.thlib.org/reference/spt/SPT--BrowseResources.php?ParentId=42\">Bibliographies</a>\\r\\n\\t\\t\\t\\t\\t<!--<a href=\"http://www.thlib.org/reference/bibliographies/\" class=\"first-link\">Bibliographies</a>-->\\r\\n\\t\\t\\t\\t\\t<a href=\"http://www.thlib.org/community/thstudies/wiki/research%20finding%20aids.html\">Finding\\r\\n\\t\\t\\t\\t\\t\\tAids</a>\\r\\n\\t\\t\\t\\t\\t<a href=\"http://subjects.thlib.org/\">Knowledge Maps</a>\\r\\n\\t\\t\\t\\t\\t<a href=\"http://places.thlib.org/\">Place Dictionary</a>\\r\\n\\t\\t\\t\\t\\t<!--<a href=\"http://www.thlib.org/reference/timelines/\">Timelines</a>-->\\r\\n\\t\\t\\t\\t\\t<br />\\r\\n\\t\\t\\t\\t\\t<a class=\"first-link\" href=\"http://www.thlib.org/reference/transliteration/\">Transliteration</a>\\r\\n\\t\\t\\t\\t\\t<!--<a href=\"http://www.thlib.org/reference/tibetan-grammar/\" class=\"first-link\">Tibetan Grammar</a>\\r\\n\\t\\t\\t\\t\\t\\t\\t<a href=\"http://www.thlib.org/reference/dictionaries/\" class=\"parent-link\">Dictionaries:</a>(<a\\r\\n\\t\\t\\thref=\"http://www.thlib.org/reference/dictionaries/himalayan-languages/\" class=\"sub-link\">Himalayan Languages</a>-->\\r\\n\\t\\t\\t\\t\\t<a href=\"http://dictionary.thlib.org/\">Tibetan Dictionary</a>\\r\\n\\t\\t\\t\\t\\t<!--ADD back class= when parent\\r\\n\\t\\t\\t\\t\\t\\tDictionaries link is activated, and delete \"Dictionary\" from label-->\\r\\n\\t\\t\\t\\t\\t<a class=\"sub-link\" href=\"http://www.thlib.org/reference/dictionaries/tibetan-dictionary/translate.php\">Tibetan Translation Tool</a>\\r\\n\\t\\t\\t\\t\\t<!--)-->\\r\\n\\t\\t\\t\\t\\t<br />\\r\\n\\t\\t\\t\\t\\t<a class=\"first-link\" href=\"http://www.thlib.org/reference/transliteration/phconverter.php\">Tibetan-Phonetics Converter</a>\\r\\n\\t\\t\\t\\t\\t<a href=\"http://www.thlib.org/reference/transliteration/wyconverter.php\">Tibetan-Wylie Converter</a>\\r\\n\\t\\t\\t\\t</p>\\r\\n\\t\\t\\t</td>\\r\\n\\t\\t</tr>\\r\\n\\r\\n\\t\\t<!-- temporarily removed until updates available\\r\\n\\t\\t\\t\\t\\t<tr>\\r\\n\\t\\t\\t\\t\\t<td class=\"header\"><p><a href=\"http://www.thlib.org/collections/\">Collections</a></p></td>\\r\\n\\t\\t\\t\\t\\t<td><p><a href=\"http://www.thlib.org/collections/special-collections/\" class=\"first-link\">Special Collections</a><br/>\\r\\n\\t\\t\\t\\t\\t<a href=\"http://staging-mms.thlib.org/media/\" class=\"parent-link\" style=\"margin-left:0px\">Media:</a>(<a href=\"http://www.thlib.org/collections/media/audio-video/\" class=\"sub-link\">Audio-Video</a><a href=\"http://www.thlib.org/collections/media/images/\" class=\"sub-link\">Images</a><a href=\"http://www.thlib.org/collections/media/immersive/\" class=\"sub-link-last\">Immersive</a>)<a href=\"http://www.thlib.org/collections/texts/\" class=\"parent-link\">Texts:</a>(<a href=\"http://www.thlib.org/collections/texts/jiats/\" class=\"sub-link\">JIATS</a><a href=\"http://www.thlib.org/collections/texts/journals/\" class=\"sub-link\">Journals</a><a href=\"http://www.thlib.org/collections/texts/reprints/\" class=\"sub-link\">Reprints</a><a href=\"http://www.thlib.org/collections/texts/tibetan-texts/\" class=\"sub-link-last\">Tibetan Texts</a>)</p></td>\\r\\n\\t\\t\\t\\t\\t</tr>\\r\\n\\t\\t\\t\\t-->\\r\\n\\r\\n\\t\\t<tr>\\r\\n\\t\\t\\t<td class=\"header\">\\r\\n\\t\\t\\t\\t<p>\\r\\n\\t\\t\\t\\t\\t<a href=\"http://www.thlib.org/places/\">Places</a>\\r\\n\\t\\t\\t\\t</p>\\r\\n\\t\\t\\t</td>\\r\\n\\r\\n\\t\\t\\t<td>\\r\\n\\t\\t\\t\\t<p>\\r\\n\\t\\t\\t\\t\\t<a class=\"first-link\" target=\"_blank\" href=\"http://www.thlib.org/places/culturalgeography/\">Cultural\\r\\n\\t\\t\\t\\t\\t\\tGeography</a>\\r\\n\\t\\t\\t\\t\\t<a href=\"http://www.thlib.org/places/maps/interactive/\">Interactive Map</a>\\r\\n\\t\\t\\t\\t\\t<a href=\"http://www.thlib.org/places/maps/collections/\">Maps</a>\\r\\n\\t\\t\\t\\t\\t<a href=\"http://www.thlib.org/places/culturalgeography/nepal/census/\">Nepal Census Data</a>\\r\\n\\t\\t\\t\\t\\t<a target=\"_blank\" href=\"http://places.thlib.org/\">Place Dictionary</a>\\r\\n\\t\\t\\t\\t\\t<br />\\r\\n\\t\\t\\t\\t</p>\\r\\n\\t\\t\\t</td>\\r\\n\\t\\t</tr>\\r\\n\\t\\t<!-- temporarily removed until updates available \\t\\t\\t\\t\\r\\n\\t\\t\\t<td><p><a href=\"http://www.thlib.org/places/cultures/\" class=\"first-link\">Cultures</a><a href=\"http://www.thlib.org/places/culturalgeography/\">Cultural Geography</a><a href=\"http://www.thlib.org/places/environment/\">Environment</a><br/>\\r\\n\\t\\t\\t<a href=\"http://www.thlib.org/places/feature-thesaurus/\" class=\"first-link\">Feature Thesaurus</a><a href=\"http://www.thlib.org/community/geotourism/\">Geotourism</a><a href=\"http://www.thlib.org/community/knowledge/\">Participatory Knowledge</a><br/>\\r\\n\\t\\t\\t<a href=\"http://www.thlib.org/places/polities/\">Polities</a><a href=\"http://www.thlib.org/places/reference/\">Reference</a><a href=\"http://www.thlib.org/places/timeline/\">Timeline</a><a href=\"http://www.thlib.org/places/lhasa/\">The City of Lhasa</a></p></td>\\r\\n\\t\\t</tr>\\t\\r\\n\\t\\t\\t\\t\\r\\n\\t\\t temporarily removed until updates available -->\\r\\n\\t\\t<tr>\\r\\n\\t\\t\\t<td class=\"header\">\\r\\n\\t\\t\\t\\t<p>\\r\\n\\t\\t\\t\\t\\t<a href=\"http://www.thlib.org/encyclopedias/literary\">Literature</a>\\r\\n\\t\\t\\t\\t</p>\\r\\n\\t\\t\\t</td>\\r\\n\\t\\t\\t<td>\\r\\n\\t\\t\\t\\t<p>\\r\\n\\t\\t\\t\\t\\t<a class=\"first-link\" href=\"http://www.thlib.org/encyclopedias/literary/canons/\">Tibetan Canons</a>\\r\\n\\t\\t\\t\\t\\t<a href=\"http://www.thlib.org/encyclopedias/literary/canons/kt/\">Kangyur/Tengyur</a>\\r\\n\\t\\t\\t\\t\\t<a href=\"http://www.thlib.org/encyclopedias/literary/canons/ngb/\">Collected Tantras of the\\r\\n\\t\\t\\t\\t\\t\\tAncients</a>\\r\\n\\t\\t\\t\\t\\t<a href=\"http://www.thlib.org/encyclopedias/literary/shechen/dkcw/catalog.php\">Dilgo Khyents\\xe9\\r\\n\\t\\t\\t\\t\\t\\tCatalog</a>\\r\\n\\t\\t\\t\\t\\t<a href=\"http://www.thlib.org/encyclopedias/literary/genres/\">Literary Genres</a>\\r\\n\\t\\t\\t\\t</p>\\r\\n\\t\\t\\t</td>\\r\\n\\t\\t</tr>\\r\\n\\r\\n\\t\\t<!-- temporarily removed until updates available\\r\\n\\t\\t<tr>\\r\\n\\t\\t\\t<td class=\"header\"><p><a href=\"http://www.thlib.org/education/\">Education</a></p></td>\\r\\n\\t\\t\\t<td><p><a href=\"http://www.thlib.org/education/courses/\" class=\"first-link\">Courses</a><a href=\"http://www.thlib.org/education/programs/\">Programs</a><a href=\"http://www.thlib.org/education/learning-languages/\" class=\"parent-link\">Learning Languages:</a>(<a href=\"http://www.thlib.org/education/learning-languages/english/\" class=\"sub-link\">English</a><a href=\"http://www.thlib.org/encyclopedias/learning-languages/nepali/\" class=\"sub-link\">Nepali</a><a href=\"http://www.thlib.org/encyclopedias/learning-languages/tibetan/\" class=\"sub-link-last\">Tibetan</a>)</p></td>\\r\\n\\t\\t</tr>\\r\\n\\t\\t-->\\r\\n\\t\\t<!-- temporarily removed until updates available -->\\r\\n\\t\\t<tr>\\r\\n\\t\\t\\t<td class=\"header\">\\r\\n\\t\\t\\t\\t<p>\\r\\n\\t\\t\\t\\t\\t<a href=\"http://www.thlib.org/community/\">Community</a>\\r\\n\\t\\t\\t\\t</p>\\r\\n\\t\\t\\t</td>\\r\\n\\t\\t\\t<td>\\r\\n\\t\\t\\t\\t<p>\\r\\n\\t\\t\\t\\t\\t<!--<a href=\"#\" class=\"first-link\">Academic Studies</a><a href=\"#\">Announcements</a>\\r\\n\\t\\t\\t\\tdelete class=\"first-link\" from the next item when one of the two preceding items is uncommented\\r\\n\\t\\t\\t\\tback in-->\\r\\n\\r\\n\\t\\t\\t\\t\\t<a class=\"first-link\" href=\"http://connections.thlib.org/\">Connections</a>\\r\\n\\t\\t\\t\\t\\t<a href=\"http://www.thlib.org/bibliographies/wiki/blogs.html\">Blogs</a>\\r\\n\\t\\t\\t\\t\\t<a href=\"http://www.thlib.org/tools/wiki/thl%20collab%20worksites.html\">Collaboration Worksites</a>\\r\\n\\t\\t\\t\\t\\t<a href=\"http://www.thlib.org/tools/wiki/community%20|amp|%20communication.html\">Communication</a>\\r\\n\\t\\t\\t\\t\\t<!--<a href=\"http://www.thlib.org/community/reports/\">Community Reports</a>\\r\\n\\t\\t\\t\\t\\t\\t\\t\\t<a href=\"#\">Conferences</a><br/>-->\\r\\n\\t\\t\\t\\t\\t<!-- add back class=\"first-link\" when you uncomment back in the <br> tag that precedes this-->\\r\\n\\t\\t\\t\\t\\t<a href=\"http://www.thlib.org/bibliographies/wiki/discussion%20forums.html\">Discussion Forums</a>\\r\\n\\t\\t\\t\\t\\t<br />\\r\\n\\t\\t\\t\\t\\t<a class=\"first-link\" href=\"http://www.thlib.org/about/wiki/thdl%20community%20events.html\">Events</a>\\r\\n\\t\\t\\t\\t\\t<!--<a href=\"http://www.thlib.org/community/geotourism/\">Geotourism</a>-->\\r\\n\\t\\t\\t\\t\\t<a href=\"http://www.thlib.org/bibliographies/wiki/mailing%20lists.html\">Mailing Lists</a>\\r\\n\\t\\t\\t\\t\\t<a href=\"http://www.thlib.org/about/wiki/thl%20partners.html\">THL Partners</a>\\r\\n\\t\\t\\t\\t\\t<a href=\"http://www.thlib.org/community/thstudies/wiki/news%20for%20tibetan%20studies%20|amp|%20tibetans.html\">Tibetan News</a>\\r\\n\\t\\t\\t\\t\\t<!--<a href=\"#\">Participants</a><a href=\"http://www.thlib.org/community/knowledge/\">Participatory Knowledge</a>\\r\\n\\t\\t\\t\\t\\t\\t\\t<a href=\"#\">Tibetan Himalayan</a>-->\\r\\n\\t\\t\\t\\t</p>\\r\\n\\t\\t\\t</td>\\r\\n\\t\\t</tr>\\r\\n\\r\\n\\t\\t<tr>\\r\\n\\t\\t\\t<td class=\"header\">\\r\\n\\t\\t\\t\\t<p>\\r\\n\\t\\t\\t\\t\\t<a href=\"http://www.thlib.org/tools/\">Tools</a>\\r\\n\\t\\t\\t\\t</p>\\r\\n\\t\\t\\t</td>\\r\\n\\r\\n\\t\\t\\t<td>\\r\\n\\t\\t\\t\\t<p><a class=\"first-link\" href=\"http://www.thlib.org/tools/wiki/home.html\">Toolbox</a>\\r\\n\\t\\t\\t\\t\\t<a href=\"http://www.thlib.org/tools/wiki/preparing%20your%20computer%20for%20thdl%20use.html\">Prep\\r\\n\\t\\t\\t\\t\\t\\tComputer</a>\\r\\n\\t\\t\\t\\t\\t<a href=\"http://www.thlib.org/tools/wiki/tips%20on%20software%20|amp|%20operating%20systems.html\">Software</a>\\r\\n\\t\\t\\t\\t\\t<a href=\"http://www.thlib.org/tools/wiki/thl%20technologies%20|amp|%20open%20standards.html\">Technologies</a>\\r\\n\\t\\t\\t\\t\\t<a href=\"http://www.thlib.org/tools/sitewiki/32aa1fc8-5059-431d-9a65-7a8b13ec3415/home.html\">THL\\r\\n\\t\\t\\t\\t\\t\\tResearch Lab</a><br />\\r\\n\\t\\t\\t\\t\\t<a class=\"parent-link first-link\" href=\"http://www.thlib.org/tools/wiki/fonts%20|amp|%20related%20issues.html\">Fonts:</a>(<a class=\"sub-link\" href=\"http://www.thlib.org/tools/wiki/chinese%20fonts%20|amp|%20related%20issues.html\">Chinese</a>\\r\\n\\t\\t\\t\\t\\t<a class=\"sub-link\" href=\"http://www.thlib.org/tools/wiki/diacritic%20fonts.html\">Diacritics</a>\\r\\n\\t\\t\\t\\t\\t<a class=\"sub-link\" href=\"http://www.thlib.org/tools/wiki/nepali%20fonts%20|amp|%20related%20issues.html\">Nepali</a>\\r\\n\\t\\t\\t\\t\\t<a class=\"sub-link-last\" href=\"http://www.thlib.org/tools/scripts/wiki/home.html\">Tibetan </a>) </p>\\r\\n\\t\\t\\t</td>\\r\\n\\t\\t</tr>\\r\\n\\r\\n\\t\\t<tr>\\r\\n\\t\\t\\t<td class=\"header\">\\r\\n\\t\\t\\t\\t<p>\\r\\n\\t\\t\\t\\t\\t<a href=\"http://www.thlib.org/projects/\">Projects</a>\\r\\n\\t\\t\\t\\t</p>\\r\\n\\t\\t\\t</td>\\r\\n\\r\\n\\t\\t\\t<td>\\r\\n\\t\\t\\t\\t<p>\\r\\n\\t\\t\\t\\t\\t<a class=\"first-link\" target=\"_blank\" href=\"http://www.thlib.org/bellezza/\">Antiquities of\\r\\n\\t\\t\\t\\t\\t\\tZhangzhung</a>\\r\\n\\t\\t\\t\\t\\t<a target=\"_blank\" href=\"http://www.thlib.org/places/monasteries/drepung/\">Drepung Monastery</a>\\r\\n\\t\\t\\t\\t\\t<a target=\"_blank\" href=\"http://www.thlib.org/collections/texts/jiats/\">JIATS</a>\\r\\n\\t\\t\\t\\t\\t<a target=\"_blank\" href=\"http://www.thlib.org/places/monasteries/meru-nyingpa/\">Meru Nyingpa\\r\\n\\t\\t\\t\\t\\t\\tMonastery</a>\\r\\n\\t\\t\\t\\t\\t<a target=\"_blank\" href=\"http://www.thlib.org/places/monasteries/sera/\">Sera Monastery</a>\\r\\n\\t\\t\\t\\t\\t<a class=\"first-link\" href=\"http://www.thlib.org/about/wiki/thl%20projects%20inventory.html\">Projects Inventory</a>\\r\\n\\t\\t\\t\\t\\t<a href=\"http://www.thlib.org/about/wiki/thdl%20status%20reports.html\">Status Reports</a>\\r\\n\\t\\t\\t\\t</p>\\r\\n\\t\\t\\t</td>\\r\\n\\t\\t</tr>\\r\\n\\r\\n\\t\\t<!--<tr>\\r\\n\\t\\t\\t<td colspan=\"2\" class=\"index-botrow\">\\r\\n\\t\\t\\t\\t<p>NOTE: an asterisk (*) indicates a THL-published website, with a banner and\\r\\n\\t\\t\\t\\t\\tnavigation system different from the general THL website.</p>\\r\\n\\t\\t\\t</td>\\r\\n\\t\\t</tr>-->\\r\\n\\t</table>\\r\\n</div>\\r\\n\\t\\t\\t\\t\\t\\r\\n\\t\\t\\t\\t\\t\\r\\n\\t\\t\\t\\t\\t</div><!-- END popup thlmenu -->\\r\\n\\t\\t\\t\\t\\t</div><!-- END popup thlmenu-eng -->\\r\\n\\t\\t\\t</div>\\r\\n\\t\\t</div>\\r\\n<!-- end sitemap -->\\r\\n<!-- sitemap link -->\\r\\n<div id=\"openCloseSitemap\">\\r\\n\\t<p id=\"sitemapLink\"><a title=\"show thl index\" class=\"sitemapAction\" style=\"background-image: url(http://www.thlib.org/global/images/masthead-thl-index.png);\" href=\"#sitemap\"></a></p>\\r\\n</div>\\r\\n\\r\\n<!-- begin side column -->\\n<div id=\"side-column\">\\r\\n\\t\\t<div id=\"gsearch\">\\r\\n\\t\\t\\t<!-- Attempt to use new Googel Custom Search API without success\\r\\n\\t\\t\\t<div style=\"color: white;\" id=\"cse-search-form\">\\r\\n\\t\\t\\t\\t<script src=\"http://www.thlib.org/global/js/thl-google-search-interface.js\" type=\"text/javascript\"> </script>\\r\\n\\t\\t\\t\\t<form name=\"thl-gensearch-form\" class=\"gsc-search-box\" accept-charset=\"utf-8\" action=\"javascript: doSearch(this);\">\\r\\n\\t\\t\\t\\t\\t<table cellspacing=\"0\" cellpadding=\"0\" class=\"gsc-search-box\">\\r\\n\\t\\t\\t\\t\\t\\t<tbody>\\r\\n\\t\\t\\t\\t\\t\\t\\t<tr>\\r\\n\\t\\t\\t\\t\\t\\t\\t\\t<td class=\"gsc-input\"><input type=\"text\" autocomplete=\"off\" size=\"10\" class=\"gsc-input\" id=\"query\" name=\"query\" title=\"Search\" style=\"background: none repeat scroll 0% 0% rgb(255, 255, 255);\"></td>\\r\\n\\t\\t\\t\\t\\t\\t\\t\\t<td class=\"gsc-search-button\"><input type=\"submit\" value=\"Search\" class=\"gsc-search-button\" title=\"search\"></td>\\r\\n\\t\\t\\t\\t\\t\\t\\t\\t<td class=\"gsc-clear-button\"><div class=\"gsc-clear-button\" title=\"clear results\">&nbsp;</div></td>\\r\\n\\t\\t\\t\\t\\t\\t\\t</tr>\\r\\n\\t\\t\\t\\t\\t\\t</tbody>\\r\\n\\t\\t\\t\\t\\t</table>\\r\\n\\t\\t\\t\\t</form>\\r\\n\\t\\t\\t</div> -->\\r\\n\\t\\t\\t<div id=\"cse-search-form\" style=\"color: white;\"><p class=\"cse-loading\">Loading ....</p></div>\\r\\n\\t\\t\\t<script src=\"http://www.google.com/jsapi\" type=\"text/javascript\"> </script>\\r\\n\\t\\t\\t<script src=\"http://www.thlib.org/global/js/thl-google-se.js\" type=\"text/javascript\"> </script>\\r\\n\\t\\t</div>\\r\\n\\t\\t<!-- Write code for language option drop down -->\\r\\n\\t\\t\\t\\t<div id=\"fxSideMenu\">\\r\\n\\t\\t\\t<div id=\"fxSideMenuContent\">                    \\r\\n\\t\\t\\t\\t<!-- Move up directory tree searching for closest side-column.php file -->\\r\\n\\t\\t\\t\\t\\r\\n<!-- begin side column search php -->\\r\\n<h3 class=\"side-search-header\"><a>Search</a></h3>\\r\\n<!--\\r\\n<form action=\"#\" id=\"side-search-form\" method=\"post\" class=\"side-search-form\">\\r\\n\\t<table id=\"search-wrapper\">\\r\\n\\t\\t<tr>\\r\\n\\t\\t\\t<td><input id=\"q\" name=\"g\" class=\"ss-text\" type=\"text\" tabindex=\"1\" value=\"\"  /></td>\\r\\n\\t\\t\\t<td><input type=\"image\" src=\"http://www.thlib.org/global/images/btn-search-arrow.gif\" class=\"ss-arrow\" id=\"go\" alt=\"Search\" title=\"Search\" /></td>\\r\\n\\t\\t</tr>\\r\\n\\t\\t<tr>\\r\\n\\t\\t\\t<td>\\r\\n\\t\\t\\t<select class=\"ss-select\" title=\"Target Search\" name=\"Target Search\" id=\"target\">\\r\\n\\t\\t\\t\\t<option value=\"\" class=\"top\">Search All</option>\\r\\n\\t\\t\\t\\t<option value=\"\">&gt; Image - Video</option>\\r\\n\\t\\t\\t\\t<option value=\"\" class=\"alt\">&gt; Places</option>\\r\\n\\t\\t\\t\\t<option value=\"\">&gt; Tibetan Terms</option>\\r\\n\\t\\t\\t\\t<option value=\"\" class=\"alt\">&gt; THL ID#</option>\\r\\n\\t\\t\\t</select>\\r\\n\\t\\t\\t</td>\\r\\n\\t\\t</tr>\\r\\n\\t</table>\\r\\n</form>-->\\r\\n<form class=\"side-search-form\" id=\"cse-search-box\" action=\"http://www.thlib.org/search-results.php\">\\r\\n\\t<div>\\r\\n\\t\\t<table id=\"side-search-wrapper\">\\r\\n\\t\\t\\t<tr>\\r\\n\\t\\t\\t\\t<td>\\r\\n\\t\\t\\t\\t\\t<input value=\"008495345227205106885:dgbqxts-b0m\" name=\"cx\" type=\"hidden\" />\\r\\n\\t\\t\\t\\t\\t<input value=\"FORID:11\" name=\"cof\" type=\"hidden\" />\\r\\n\\t\\t\\t\\t\\t<input value=\"UTF-8\" name=\"ie\" type=\"hidden\" />\\r\\n\\t\\t\\t\\t\\t<input class=\"ss-text\" name=\"q\" type=\"text\" />\\r\\n\\t\\t\\t\\t</td>\\r\\n\\t\\t\\t\\t<td><input value=\"Search\" name=\"sa\" type=\"submit\" /></td>\\r\\n\\t\\t\\t</tr>\\r\\n\\t\\t</table>\\r\\n\\t</div>\\r\\n</form>\\r\\n<script src=\"http://www.google.com/coop/cse/brand?form=cse-search-box&lang=en\" type=\"text/javascript\"></script>\\r\\n<!-- end side column search php -->\\r\\n\\r\\n<div class=\"list0\" id=\"list0\"> \\r\\n\\t<div class=\"list1\" id=\"list1\"><div id=\"app-vertical-links\">\\t<h4 id=\"side-home-link\"><a title=\"Tibetan Dictionary Home\" href=\"http://thlib.org/reference/dictionaries/tibetan-dictionary/\">Tibetan Dictionary Home</a></h4><h3 class=\"head\"><a hreflang=\"Description for Tibetan Dictionary Project.\" href=\"#nogo\">Tibetan Dictionary Project</a></h3>\\n<ul>\\n<li><a title=\"\" href=\"http://thlib.org/reference/dictionaries/tibetan-dictionary/about/wiki/thdl%20tibetan%20historical%20dictionary%20overview.html\">Project Overview</a></li><li><a title=\"\" href=\"http://thlib.org/reference/dictionaries/tibetan-dictionary/about/wiki/thdl%20tibetan%20historical%20dictionary%20introduction.html\">Historical Dictionary Intro</a></li><li><a title=\"\" href=\"http://thlib.org/reference/dictionaries/tibetan-dictionary/translate.php\">Tibetan Translation</a></li><li><a title=\"\" href=\"http://thlib.org/reference/dictionaries/tibetan-dictionary/about/wiki/thdl%20tibetan%20historical%20dictionary%20status%20report.html\">Status</a></li><li><a title=\"\" href=\"http://thlib.org/reference/dictionaries/tibetan-dictionary/about/wiki/thdl tibetan historical dictionary help.html\">Dictionaries Help</a></li><li class=\"loggedon\"><a hreflang=\"Dictionary Edit.\" href=\"/definitions/index_edit\">Edit</a></li>\\n<li class=\"loggedon\"><a hreflang=\"Dictionary New.\" href=\"/definitions/new\">New</a></li>\\n<li><a href=\"http://thlib.org/reference/dictionaries/tibetan-dictionary/sitewiki/c06fa8cf-c49c-4ebc-007f-482de5382105/tibetan historical dictionary editorial manual.html\">Editorial Manual</a></li><li><a title=\"\" href=\"http://thlib.org/reference/dictionaries/tibetan-dictionary/about/wiki/thdl%20tibetan%20historical%20dictionary%20about%20us.html\">About Us</a></li><li><a title=\"\" href=\"http://thlib.org/reference/dictionaries/tibetan-dictionary/about/wiki/thdl%20tibetan%20historical%20dictionary%20how%20to%20participate.html\">How to Participate</a></li><li><a title=\"\" href=\"http://thlib.org/reference/dictionaries/tibetan-dictionary/about/wiki/thdl%20tibetan%20historical%20dictionary%20sponsors.html\">Sponsors</a></li><li><a title=\"\" href=\"http://thlib.org/reference/dictionaries/tibetan-dictionary/about/wiki/thdl%20tibetan%20historical%20dictionary%20how%20to%20cite.html\">How to Cite</a></li><li><a href=\"javascript:linkTo_UnCryptMailto(\\'nbjmup;uimAdpmmbc/jud/wjshjojb/fev\\');\">Contact Us</a></li></ul><h3 class=\"head global-links\"><a title=\"\" href=\"#nogo\">Reference</a></h3>\\n<ul>\\n<li><a title=\"Link to Reference Home Page\" href=\"http://thlib.org/reference/\">Reference Home</a></li><li><a title=\"\" href=\"http://thlib.org/reference/bibliographies/\">Bibliographies</a></li><li><a title=\"\" href=\"http://thlib.org/reference/dictionaries/\">Dictionaries</a></li><li><a title=\"\" href=\"http://thlib.org/reference/search-places/\">Search for Places</a></li><li><a title=\"\" href=\"http://thlib.org/reference/tibetan-grammar/\">Tibetan Grammars</a></li><li><a title=\"\" href=\"http://thlib.org/reference/tibetan-translation/\">Tibetan Translation</a></li><li><a title=\"\" href=\"http://thlib.org/reference/timelines/\">Timelines</a></li><li><a href=\"http://subjects.thlib.org\">Topical Map Builder</a></li><li><a title=\"\" href=\"http://thlib.org/reference/transliteration/\">Transliteration</a></li></ul></div>\\t\\t\\r\\n\\t\\t<h3 class=\"global-links-hdr\"><span>General Links</span></h3>\\r\\n\\t\\t\\t\\r\\n\\r\\n<!--\\r\\n<h3 class=\"head global-links\"><a href=\"#nogo\" title=\"Links to the main THL Portal Pages\">THL\\r\\nGlobal</a></h3>\\r\\n-->\\r\\n<h4><a title=\"The THL homepage\" href=\"http://www.thlib.org/\">THL Home</a></h4>\\r\\n\\r\\n<h3 class=\"head global-links\"><a title=\"THL Apps\" href=\"#nogo\">THL Apps</a></h3>\\r\\n\\t\\t<ul>\\r\\n\\t\\t\\t<li><a title=\"THL Audio-Video Collections\" href=\"http://www.thlib.org/avarch/mediaflowcat/ \">Audio-Video</a></li>\\r\\n\\t\\t\\t<li><a title=\"THL Connections\" href=\"http://connections.thlib.org\">Connections</a></li>\\r\\n\\t\\t\\t<li><a title=\"THL Image Collections\" href=\"http://mms.thlib.org\">Images</a></li>\\r\\n\\t\\t\\t<li><a title=\"THL Interactive Map\" href=\"http://www.thlib.org/places/maps/interactive/\">Interactive Map</a></li>\\r\\n\\t\\t\\t<li><a title=\"JIATS Journal\" target=\"_blank\" href=\"http://www.thlib.org/collections/texts/jiats/\">JIATS</a></li>\\r\\n\\t\\t\\t<li><a title=\"Topical Knowledge Maps in THL\" href=\"http://subjects.thlib.org\">Knowledge Maps</a></li>\\r\\n\\t\\t\\t<li><a title=\"THL Map Catalog\" href=\"http://www.thlib.org/places/maps/collections/\">Map Catalog</a></li>\\r\\n\\t\\t\\t<li><a title=\"The THL Place Dictionary\" href=\"http://places.thlib.org\">Place Dictionary</a></li>\\r\\n\\t\\t\\t<li><a title=\"THL Tibetan Historical Dictionary\" href=\"http://dictionary.thlib.org\">Tibetan Dictionary</a></li>\\r\\n\\t\\t\\t<li><a title=\"THL Tibetan Texts Collection\" href=\"http://www.thlib.org/encyclopedias/literary/\">Tibetan Texts</a></li>\\r\\n\\t\\t\\t<li><a title=\"THL Tibetan Transcriber\" href=\"http://www.thlib.org/reference/transliteration/phconverter.php\">Transcriber</a></li>\\r\\n\\t\\t\\t<li><a title=\"THL Tibetan Translation Tool\" href=\"http://www.thlib.org/reference/dictionaries/tibetan-dictionary/translate.php\">Translation Tool</a></li>\\r\\n\\t\\t\\t<li><a title=\"THL Tibetan Transliterator\" href=\"http://www.thlib.org/reference/transliteration/wyconverter.php\">Transliterator</a></li>\\r\\n\\t\\t</ul>\\r\\n\\r\\n<h3 class=\"head global-links\"><a title=\"Links to the main THL Portal Pages\" href=\"#nogo\">THL Navigation</a></h3>\\r\\n\\t\\t<ul>\\r\\n\\t\\t\\t<li><a title=\"Home page of the Tibetan &amp; Himalayan Library\" href=\"http://www.thlib.org/\">THL Home</a></li>\\r\\n\\t\\t\\t<li><a title=\"THL Collections Portal Page\" href=\"http://www.thlib.org/collections/\">Collections</a></li>\\r\\n\\t\\t\\t<li><a title=\"THL Reference Portal Page\" href=\"http://www.thlib.org/reference/\">Reference</a></li>\\r\\n\\t\\t\\t<li><a title=\"THL Places Portal Page\" href=\"http://www.thlib.org/places/\">Places</a></li>\\r\\n\\t\\t\\t<li><a title=\"THL Literature Portal Page\" href=\"http://www.thlib.org/encyclopedias/literary/\">Literature</a></li>\\r\\n\\t\\t\\t<li><a title=\"THL Community Portal Page\" href=\"http://www.thlib.org/community/\">Community</a></li>\\r\\n\\t\\t\\t<li><a title=\"THL Tools Portal Page\" href=\"http://www.thlib.org/tools/\">Tools</a></li>\\r\\n\\t\\t\\t<li><a title=\"THL Projects Portal Page\" href=\"http://www.thlib.org/projects/\">Projects</a></li>\\r\\n\\t\\t\\t<li><a title=\"JIATS Journal\" target=\"_blank\" href=\"http://www.thlib.org/collections/texts/jiats/\">JIATS Journal</a></li>\\r\\n\\t\\t\\t<!--<li><a href=\"http://www.thlib.org/education/\" title=\"THL Education Portal Page\">Education</a></li>-->\\r\\n\\t\\t</ul>\\r\\n\\r\\n<h3 class=\"head global-links\"><a title=\"Links to THL Information Pages\" href=\"#nogo\">THL Information</a></h3>\\t\\r\\n        <ul>\\r\\n           <li><a title=\"News for Tibetan Studies &amp; Tibetans\" href=\"http://www.thlib.org/template/#wiki=/tibstudies/news%20for%20tibetan%20studies%20|amp|%20tibetans.html\">Tibetan Studies News</a></li>\\r\\n           <li><a title=\"Navigation link for projects\" href=\"http://www.thlib.org/template/#wiki=/about/thl%20projects%20inventory.html\">Projects Inventory</a></li>\\r\\n           <li><a href=\"http://www.thlib.org/template/#wiki=/about/how%20to%20cite.html\">How to Cite</a></li>\\r\\n           <li><a href=\"http://www.thlib.org/template/#wiki=/about/thdl%20home%20sponsors.html\">Sponsors</a></li>\\t\\r\\n\\t\\t</ul>\\r\\n \\r\\n<h4><a title=\"THL Connections\" href=\"http://connections.thlib.org/\">THL Connections</a></h4>\\r\\n \\r\\n<h4><a title=\"Event listing\" href=\"http://www.thlib.org/about/wiki/thdl%20community%20events.html\">Upcoming Events</a></h4> \\r\\n\\r\\n<h4><a title=\"Subscribe to THL News Updates\" href=\"http://www.thlib.org/community/newsupdates-thl.php\">Subscribe: THL Updates</a></h4>\\r\\n \\r\\n<h4><a title=\"Wish to make a donation\" href=\"http://www.thlib.org/about/wiki/donating%20funds%20and%20equipment%20to%20thdl.html\">Support: Donate to THL</a></h4>\\r\\n\\r\\n<h4><a title=\"Help in using THL  resources and websites\" href=\"http://www.thlib.org/about/wiki/thdl%20home%20help.html\">THL Help</a></h4>\\r\\n\\t\\t\\t\\r\\n\\t</div>\\r\\n</div>\\r\\n\\r\\n\\r\\n\\t\\t\\t</div>\\r\\n\\t\\t</div>\\r\\n</div>\\n<!-- end side column -->\\r\\n<div id=\"openCloseSideMenu\"><a class=\"sideMenuAction\" id=\"sideMenuLink\"></a></div>\\r\\n<!--<div id=\"thdl-search-link\"><a href=\"#nogo\">Advanced Search</a></div>-->\\r\\n<div id=\"login-status\">&nbsp;&nbsp;&nbsp;\\r\\n<i>English</i> | <a href=\"/complex_scripts/session/change_language/bo\"><span lang=\"bo\" xml:lang=\"bo\" class=\"bo\">&#3926;&#3964;&#3921;&#3851;&#3942;&#3984;&#3921;&#3853;</span></a> | <a href=\"/complex_scripts/session/change_language/dz\"><span lang=\"bo\" xml:lang=\"bo\" class=\"bo\">&#3938;&#4011;&#3964;&#3908;&#3851;&#3905;&#3853;</span></a> | <a href=\"/complex_scripts/session/change_language/zh\">&#20013;&#25991;</a></div>\\n<!-- end masthead utility -->\\r\\n\\r\\n\\r\\n\\r\\n\\r\\n<!-- end masthead include -->\\r\\n\\r\\n<!-- begin content -->\\r\\n<div id=\"content\">\\n\\n<script>\\nfunction hide_content(class_name) {\\n\\tvar cols = document.getElementsByClassName(class_name);\\n\\tfor (x=0;x < cols.length;x++) {\\n\\t\\tc = cols[x];\\n\\t\\tc.style.display = \\'none\\';\\n\\t}\\n}\\nfunction show_content(class_name) {\\n\\tvar cols = document.getElementsByClassName(class_name);\\n\\tfor (x=0;x < cols.length;x++) {\\n\\t\\tc = cols[x];\\n\\t\\tc.style.display = \\'\\';\\n\\t}\\n}\\nfunction clear_contents(node)\\n{\\n  if (!node) return false;\\n  if (typeof node == \\'string\\')\\n    node = document.getElementById(node);\\n  if (node) node.innerHTML = \\'\\';\\n}\\n</script>\\n<div id=\"login\">\\n\\t\\n\\t\\n</div>\\n<!--<div id=\"content\" class=\"dictionary_content\">\\n\\t<div class=\"shell-1\">\\n\\n\\t\\t\\n\\t</div>\\n</div>-->\\n\\n<script type=\"text/javascript\">\\n\\t$(document).ready(function() {\\n\\t\\t$(\"#fxSideMenu\").hide();\\n\\t\\t$(\"#sideMenuLink\").addClass(\"offmenu\");\\n\\t\\t//$(\"#sideMenuLink\").css({\"background-position\" : \"0% 0%\", \"width\" : \"235px\"});\\n\\t\\t//$(\"#sideMenuLink\").css(\"background-position\", \"0% 0%\");\\n\\t\\t\\n\\t\\t$(\\'#uitab_Home\\').click(function(event){\\n  \\t\\t\\t//alert(\\'Click on Opener!\\');\\n  \\t\\t\\t//event.preventDefault(); // Prevent link from following its href\\n\\t\\t\\t//$(\\'li.ui-tabs-unselected\\').find(\\'#uitab_Home\\').css(\\'background-color\\', \\'red\\');\\n\\t\\t\\t$(\\'li.ui-state-active\\', \\'ul.secondary-tabs\\').removeClass(\\'ui-state-active\\');\\n\\t\\t\\t$(\\'li.ui-tabs-selected\\',\\'ul.secondary-tabs\\').removeClass(\\'ui-tabs-selected\\').addClass(\\'ui-tabs-unselected\\');\\n\\t$(\\'#uitab_Home\\').parent(\\'.ui-tabs-unselected\\').removeClass(\\'ui-tabs-unselected\\').addClass(\\'ui-tabs-selected\\');\\t\\n\\t\\t});\\n\\t\\t$(\\'#uitab_Translate\\').click(function(event){\\n\\t\\t\\t$(\\'li.ui-state-active\\', \\'ul.secondary-tabs\\').removeClass(\\'ui-state-active\\');\\n\\t\\t\\t$(\\'li.ui-tabs-selected\\',\\'ul.secondary-tabs\\').removeClass(\\'ui-tabs-selected\\').addClass(\\'ui-tabs-unselected\\');\\n\\t$(\\'#uitab_Translate\\').parent(\\'.ui-tabs-unselected\\').removeClass(\\'ui-tabs-unselected\\').addClass(\\'ui-tabs-selected\\');\\t\\t\\n\\t\\t});\\n\\t\\t$(\\'#uitab_Hierarchies\\').click(function(event){\\n\\t\\t\\t$(\\'li.ui-state-active\\', \\'ul.secondary-tabs\\').removeClass(\\'ui-state-active\\');\\n\\t\\t\\t$(\\'li.ui-tabs-selected\\',\\'ul.secondary-tabs\\').removeClass(\\'ui-tabs-selected\\').addClass(\\'ui-tabs-unselected\\');\\n$(\\'#uitab_Hierarchies\\').parent(\\'.ui-tabs-unselected\\').removeClass(\\'ui-tabs-unselected\\').addClass(\\'ui-tabs-selected\\');\\t\\t\\t\\n\\t\\t});\\n\\t\\t$(\\'#uitab_Bibliography\\').click(function(event){\\n\\t\\t\\t$(\\'li.ui-state-active\\', \\'ul.secondary-tabs\\').removeClass(\\'ui-state-active\\');\\n\\t\\t\\t$(\\'li.ui-tabs-selected\\',\\'ul.secondary-tabs\\').removeClass(\\'ui-tabs-selected\\').addClass(\\'ui-tabs-unselected\\');\\n$(\\'#uitab_Bibliography\\').parent(\\'.ui-tabs-unselected\\').removeClass(\\'ui-tabs-unselected\\').addClass(\\'ui-tabs-selected\\');\\n\\t\\t});\\n\\t\\t$(\\'#uitab_Projects\\').click(function(event){\\n\\t\\t\\t$(\\'li.ui-state-active\\', \\'ul.secondary-tabs\\').removeClass(\\'ui-state-active\\');\\n\\t\\t\\t$(\\'li.ui-tabs-selected\\',\\'ul.secondary-tabs\\').removeClass(\\'ui-tabs-selected\\').addClass(\\'ui-tabs-unselected\\');\\n$(\\'#uitab_Projects\\').parent(\\'.ui-tabs-unselected\\').removeClass(\\'ui-tabs-unselected\\').addClass(\\'ui-tabs-selected\\');\\n\\t\\t});\\n\\t});\\n</script>\\n<div id=\"content\" class=\"dictionary_content\">\\n\\t<div class=\"shell-1\">\\n\\t\\t\\n        <div id=\\'universal_navigation\\' class=\\'ui-tabs\\'>\\n        \\n      \\t\\t<ul class=\\'primary-tabs ui-tabs-nav\\'>\\n      \\t\\t\\t<li class=\\'ui-tabs-unselected\\'>\\n          <a href=\\'http://places.thlib.org/\\'><span>Places</span></a>\\n        </li>\\n\\t\\t<li class=\\'ui-tabs-unselected\\'>\\n          <a href=\\'http://subjects.thlib.org/\\'><span>Subjects</span></a>\\n        </li>\\n\\t\\t<li class=\\'ui-tabs-unselected\\'>\\n          <a href=\\'http://mms.thlib.org/\\'><span>Resources</span></a>\\n        </li>\\n\\t\\t<li class=\\'ui-state-active ui-tabs-selected\\'>\\n          <a><span>Tibetan</span></a>\\n        </li>\\n\\t\\t<li class=\\'ui-tabs-unselected\\'>\\n          <a href=\\'http://mms.thlib.org/dictionary_searches/new\\'><span>Himalayan</span></a>\\n        </li>\\n      \\t\\t</ul>\\n    \\t\\t  \\n      \\t\\t<ul class=\\'secondary-tabs ui-tabs-nav\\'>\\n      \\t\\t\\t<li class=\\'ui-tabs-unselected\\'>\\n          <a href=\\'/\\' id=uitab_Home><span>Home</span></a>\\n        </li>\\n\\t\\t<li class=\\'ui-tabs-unselected\\'>\\n          <a href=\\'/definitions/search\\' id=uitab_Search><span>Search</span></a>\\n        </li>\\n\\t\\t<li class=\\'ui-tabs-unselected\\'>\\n          <a href=\\'/internal_definitions/public_term/10206\\' id=uitab_Term><span>Term</span></a>\\n        </li>\\n\\t\\t<li class=\\'ui-state-active ui-tabs-selected\\'>\\n          <a href=\\'/browse_definitions\\' id=uitab_Browse><span>Browse</span></a>\\n        </li>\\n\\t\\t<li class=\\'ui-tabs-unselected\\'>\\n          <a href=\\'#iframe=http://thlib.org/reference/dictionaries/tibetan-dictionary/translate.php&div_id=universal_navigation_content\\' id=uitab_Translate><span>Translate</span></a>\\n        </li>\\n\\t\\t<li class=\\'ui-tabs-unselected\\'>\\n          <a href=\\'http://subjects.thlib.org\\' id=uitab_Hierarchies><span>Hierarchies</span></a>\\n        </li>\\n\\t\\t<li class=\\'ui-tabs-unselected\\'>\\n          <a href=\\'http://subjects.thlib.org/categories/236/children\\' id=uitab_Projects><span>Projects</span></a>\\n        </li>\\n\\t\\t<li class=\\'ui-tabs-unselected\\'>\\n          <a href=\\'#iframe=http://thlib.org/reference/dictionaries/tibetan-dictionary/dictionary-biblio.php&div_id=universal_navigation_content\\' id=uitab_Bibliography><span>Bibliography</span></a>\\n        </li>\\n      \\t\\t</ul>\\n    \\t\\t\\n      \\t\\t<div id=\\'universal_navigation_content\\' class=\\'ui-tabs-panel\\'>\\n      \\t    \\n\\t\\t<script>\\n\\tfunction clear_bars(){\\n\\t\\t\\n\\t\\t$(\\'#1\\').hide();\\n\\t\\t\\n\\t\\t$(\\'#2\\').hide();\\n\\t\\t\\n\\t\\t$(\\'#3\\').hide();\\n\\t\\t\\n\\t\\t$(\\'#4\\').hide();\\n\\t\\t\\n\\t\\t$(\\'#5\\').hide();\\n\\t\\t\\n\\t\\t$(\\'#6\\').hide();\\n\\t\\t\\n\\t\\t$(\\'#7\\').hide();\\n\\t\\t\\n\\t\\t$(\\'#8\\').hide();\\n\\t\\t\\n\\t\\t$(\\'#9\\').hide();\\n\\t\\t\\n\\t\\t$(\\'#10\\').hide();\\n\\t\\t\\n\\t\\t$(\\'#11\\').hide();\\n\\t\\t\\n\\t\\t$(\\'#12\\').hide();\\n\\t\\t\\n\\t\\t$(\\'#13\\').hide();\\n\\t\\t\\n\\t\\t$(\\'#14\\').hide();\\n\\t\\t\\n\\t\\t$(\\'#15\\').hide();\\n\\t\\t\\n\\t\\t$(\\'#16\\').hide();\\n\\t\\t\\n\\t\\t$(\\'#17\\').hide();\\n\\t\\t\\n\\t\\t$(\\'#18\\').hide();\\n\\t\\t\\n\\t\\t$(\\'#19\\').hide();\\n\\t\\t\\n\\t\\t$(\\'#20\\').hide();\\n\\t\\t\\n\\t\\t$(\\'#21\\').hide();\\n\\t\\t\\n\\t\\t$(\\'#22\\').hide();\\n\\t\\t\\n\\t\\t$(\\'#23\\').hide();\\n\\t\\t\\n\\t\\t$(\\'#24\\').hide();\\n\\t\\t\\n\\t\\t$(\\'#25\\').hide();\\n\\t\\t\\n\\t\\t$(\\'#26\\').hide();\\n\\t\\t\\n\\t\\t$(\\'#27\\').hide();\\n\\t\\t\\n\\t\\t$(\\'#28\\').hide();\\n\\t\\t\\n\\t\\t$(\\'#29\\').hide();\\n\\t\\t\\n\\t\\t$(\\'#30\\').hide();\\n\\t\\t\\n\\t}\\n</script>\\n<table id=\"alphabet\" width=\"100%\">\\n\\t<tr>\\n\\n\\t<td>\\n\\t \\n\\t\\n\\t<a href=\"#\" onclick=\"jQuery.ajax({beforeSend:function(request){$(\\'#loader\\').show();clear_bars();$(\\'#letter_list\\').hide();}, complete:function(request){$(\\'#letter_list\\').show();$(\\'#loader\\').hide();$(\\'#\\'+\\'1\\').show();}, success:function(request){jQuery(\\'#letter_list\\').html(request);tb_init(\\'a.thickbox, area.thickbox, input.thickbox\\');}, type:\\'get\\', url:\\'/browse?junk=1448673064.22623&amp;letter=1\\'}); return false;\"><span lang=\"bo\" xml:lang=\"bo\" class=\"bo\">&#3904;</span></a>\\n\\t\\n\\t\\n\\t</td>\\n\\n\\t<td>\\n\\t \\n\\t\\n\\t<a href=\"#\" onclick=\"jQuery.ajax({beforeSend:function(request){$(\\'#loader\\').show();clear_bars();$(\\'#letter_list\\').hide();}, complete:function(request){$(\\'#letter_list\\').show();$(\\'#loader\\').hide();$(\\'#\\'+\\'2\\').show();}, success:function(request){jQuery(\\'#letter_list\\').html(request);tb_init(\\'a.thickbox, area.thickbox, input.thickbox\\');}, type:\\'get\\', url:\\'/browse?junk=1448673064.26009&amp;letter=2\\'}); return false;\"><span lang=\"bo\" xml:lang=\"bo\" class=\"bo\">&#3905;</span></a>\\n\\t\\n\\t\\n\\t</td>\\n\\n\\t<td>\\n\\t \\n\\t\\n\\t<a href=\"#\" onclick=\"jQuery.ajax({beforeSend:function(request){$(\\'#loader\\').show();clear_bars();$(\\'#letter_list\\').hide();}, complete:function(request){$(\\'#letter_list\\').show();$(\\'#loader\\').hide();$(\\'#\\'+\\'3\\').show();}, success:function(request){jQuery(\\'#letter_list\\').html(request);tb_init(\\'a.thickbox, area.thickbox, input.thickbox\\');}, type:\\'get\\', url:\\'/browse?junk=1448673064.28087&amp;letter=3\\'}); return false;\"><span lang=\"bo\" xml:lang=\"bo\" class=\"bo\">&#3906;</span></a>\\n\\t\\n\\t\\n\\t</td>\\n\\n\\t<td>\\n\\t \\n\\t\\n\\t<a href=\"#\" onclick=\"jQuery.ajax({beforeSend:function(request){$(\\'#loader\\').show();clear_bars();$(\\'#letter_list\\').hide();}, complete:function(request){$(\\'#letter_list\\').show();$(\\'#loader\\').hide();$(\\'#\\'+\\'4\\').show();}, success:function(request){jQuery(\\'#letter_list\\').html(request);tb_init(\\'a.thickbox, area.thickbox, input.thickbox\\');}, type:\\'get\\', url:\\'/browse?junk=1448673064.29366&amp;letter=4\\'}); return false;\"><span lang=\"bo\" xml:lang=\"bo\" class=\"bo\">&#3908;</span></a>\\n\\t\\n\\t\\n\\t</td>\\n\\n\\t<td>\\n\\t \\n\\t\\n\\t<a href=\"#\" onclick=\"jQuery.ajax({beforeSend:function(request){$(\\'#loader\\').show();clear_bars();$(\\'#letter_list\\').hide();}, complete:function(request){$(\\'#letter_list\\').show();$(\\'#loader\\').hide();$(\\'#\\'+\\'5\\').show();}, success:function(request){jQuery(\\'#letter_list\\').html(request);tb_init(\\'a.thickbox, area.thickbox, input.thickbox\\');}, type:\\'get\\', url:\\'/browse?junk=1448673064.29785&amp;letter=5\\'}); return false;\"><span lang=\"bo\" xml:lang=\"bo\" class=\"bo\">&#3909;</span></a>\\n\\t\\n\\t\\n\\t</td>\\n\\n\\t<td>\\n\\t \\n\\t\\n\\t<a href=\"#\" onclick=\"jQuery.ajax({beforeSend:function(request){$(\\'#loader\\').show();clear_bars();$(\\'#letter_list\\').hide();}, complete:function(request){$(\\'#letter_list\\').show();$(\\'#loader\\').hide();$(\\'#\\'+\\'6\\').show();}, success:function(request){jQuery(\\'#letter_list\\').html(request);tb_init(\\'a.thickbox, area.thickbox, input.thickbox\\');}, type:\\'get\\', url:\\'/browse?junk=1448673064.31314&amp;letter=6\\'}); return false;\"><span lang=\"bo\" xml:lang=\"bo\" class=\"bo\">&#3910;</span></a>\\n\\t\\n\\t\\n\\t</td>\\n\\n\\t<td>\\n\\t \\n\\t\\n\\t<a href=\"#\" onclick=\"jQuery.ajax({beforeSend:function(request){$(\\'#loader\\').show();clear_bars();$(\\'#letter_list\\').hide();}, complete:function(request){$(\\'#letter_list\\').show();$(\\'#loader\\').hide();$(\\'#\\'+\\'7\\').show();}, success:function(request){jQuery(\\'#letter_list\\').html(request);tb_init(\\'a.thickbox, area.thickbox, input.thickbox\\');}, type:\\'get\\', url:\\'/browse?junk=1448673064.32013&amp;letter=7\\'}); return false;\"><span lang=\"bo\" xml:lang=\"bo\" class=\"bo\">&#3911;</span></a>\\n\\t\\n\\t\\n\\t</td>\\n\\n\\t<td>\\n\\t \\n\\t\\n\\t<a href=\"#\" onclick=\"jQuery.ajax({beforeSend:function(request){$(\\'#loader\\').show();clear_bars();$(\\'#letter_list\\').hide();}, complete:function(request){$(\\'#letter_list\\').show();$(\\'#loader\\').hide();$(\\'#\\'+\\'8\\').show();}, success:function(request){jQuery(\\'#letter_list\\').html(request);tb_init(\\'a.thickbox, area.thickbox, input.thickbox\\');}, type:\\'get\\', url:\\'/browse?junk=1448673064.34791&amp;letter=8\\'}); return false;\"><span lang=\"bo\" xml:lang=\"bo\" class=\"bo\">&#3913;</span></a>\\n\\t\\n\\t\\n\\t</td>\\n\\n\\t<td>\\n\\t \\n\\t\\n\\t<a href=\"#\" onclick=\"jQuery.ajax({beforeSend:function(request){$(\\'#loader\\').show();clear_bars();$(\\'#letter_list\\').hide();}, complete:function(request){$(\\'#letter_list\\').show();$(\\'#loader\\').hide();$(\\'#\\'+\\'9\\').show();}, success:function(request){jQuery(\\'#letter_list\\').html(request);tb_init(\\'a.thickbox, area.thickbox, input.thickbox\\');}, type:\\'get\\', url:\\'/browse?junk=1448673064.34922&amp;letter=9\\'}); return false;\"><span lang=\"bo\" xml:lang=\"bo\" class=\"bo\">&#3919;</span></a>\\n\\t\\n\\t\\n\\t</td>\\n\\n\\t<td>\\n\\t \\n\\t\\n\\t<a href=\"#\" onclick=\"jQuery.ajax({beforeSend:function(request){$(\\'#loader\\').show();clear_bars();$(\\'#letter_list\\').hide();}, complete:function(request){$(\\'#letter_list\\').show();$(\\'#loader\\').hide();$(\\'#\\'+\\'10\\').show();}, success:function(request){jQuery(\\'#letter_list\\').html(request);tb_init(\\'a.thickbox, area.thickbox, input.thickbox\\');}, type:\\'get\\', url:\\'/browse?junk=1448673064.35182&amp;letter=10\\'}); return false;\"><span lang=\"bo\" xml:lang=\"bo\" class=\"bo\">&#3920;</span></a>\\n\\t\\n\\t\\n\\t</td>\\n\\n\\t<td>\\n\\t \\n\\t\\n\\t<a href=\"#\" onclick=\"jQuery.ajax({beforeSend:function(request){$(\\'#loader\\').show();clear_bars();$(\\'#letter_list\\').hide();}, complete:function(request){$(\\'#letter_list\\').show();$(\\'#loader\\').hide();$(\\'#\\'+\\'11\\').show();}, success:function(request){jQuery(\\'#letter_list\\').html(request);tb_init(\\'a.thickbox, area.thickbox, input.thickbox\\');}, type:\\'get\\', url:\\'/browse?junk=1448673064.3566&amp;letter=11\\'}); return false;\"><span lang=\"bo\" xml:lang=\"bo\" class=\"bo\">&#3921;</span></a>\\n\\t\\n\\t\\n\\t</td>\\n\\n\\t<td>\\n\\t \\n\\t\\n\\t<a href=\"#\" onclick=\"jQuery.ajax({beforeSend:function(request){$(\\'#loader\\').show();clear_bars();$(\\'#letter_list\\').hide();}, complete:function(request){$(\\'#letter_list\\').show();$(\\'#loader\\').hide();$(\\'#\\'+\\'12\\').show();}, success:function(request){jQuery(\\'#letter_list\\').html(request);tb_init(\\'a.thickbox, area.thickbox, input.thickbox\\');}, type:\\'get\\', url:\\'/browse?junk=1448673064.35959&amp;letter=12\\'}); return false;\"><span lang=\"bo\" xml:lang=\"bo\" class=\"bo\">&#3923;</span></a>\\n\\t\\n\\t\\n\\t</td>\\n\\n\\t<td>\\n\\t \\n\\t\\n\\t<a href=\"#\" onclick=\"jQuery.ajax({beforeSend:function(request){$(\\'#loader\\').show();clear_bars();$(\\'#letter_list\\').hide();}, complete:function(request){$(\\'#letter_list\\').show();$(\\'#loader\\').hide();$(\\'#\\'+\\'13\\').show();}, success:function(request){jQuery(\\'#letter_list\\').html(request);tb_init(\\'a.thickbox, area.thickbox, input.thickbox\\');}, type:\\'get\\', url:\\'/browse?junk=1448673064.36058&amp;letter=13\\'}); return false;\"><span lang=\"bo\" xml:lang=\"bo\" class=\"bo\">&#3924;</span></a>\\n\\t\\n\\t\\n\\t</td>\\n\\n\\t<td>\\n\\t \\n\\t\\n\\t<a href=\"#\" onclick=\"jQuery.ajax({beforeSend:function(request){$(\\'#loader\\').show();clear_bars();$(\\'#letter_list\\').hide();}, complete:function(request){$(\\'#letter_list\\').show();$(\\'#loader\\').hide();$(\\'#\\'+\\'14\\').show();}, success:function(request){jQuery(\\'#letter_list\\').html(request);tb_init(\\'a.thickbox, area.thickbox, input.thickbox\\');}, type:\\'get\\', url:\\'/browse?junk=1448673064.36176&amp;letter=14\\'}); return false;\"><span lang=\"bo\" xml:lang=\"bo\" class=\"bo\">&#3925;</span></a>\\n\\t\\n\\t\\n\\t</td>\\n\\n\\t<td>\\n\\t \\n\\t\\n\\t<a href=\"#\" onclick=\"jQuery.ajax({beforeSend:function(request){$(\\'#loader\\').show();clear_bars();$(\\'#letter_list\\').hide();}, complete:function(request){$(\\'#letter_list\\').show();$(\\'#loader\\').hide();$(\\'#\\'+\\'15\\').show();}, success:function(request){jQuery(\\'#letter_list\\').html(request);tb_init(\\'a.thickbox, area.thickbox, input.thickbox\\');}, type:\\'get\\', url:\\'/browse?junk=1448673064.3628&amp;letter=15\\'}); return false;\"><span lang=\"bo\" xml:lang=\"bo\" class=\"bo\">&#3926;</span></a>\\n\\t\\n\\t\\n\\t</td>\\n\\n\\t<td>\\n\\t \\n\\t\\n\\t<a href=\"#\" onclick=\"jQuery.ajax({beforeSend:function(request){$(\\'#loader\\').show();clear_bars();$(\\'#letter_list\\').hide();}, complete:function(request){$(\\'#letter_list\\').show();$(\\'#loader\\').hide();$(\\'#\\'+\\'16\\').show();}, success:function(request){jQuery(\\'#letter_list\\').html(request);tb_init(\\'a.thickbox, area.thickbox, input.thickbox\\');}, type:\\'get\\', url:\\'/browse?junk=1448673064.36491&amp;letter=16\\'}); return false;\"><span lang=\"bo\" xml:lang=\"bo\" class=\"bo\">&#3928;</span></a>\\n\\t\\n\\t\\n\\t</td>\\n\\n\\t<td>\\n\\t \\n\\t\\n\\t<a href=\"#\" onclick=\"jQuery.ajax({beforeSend:function(request){$(\\'#loader\\').show();clear_bars();$(\\'#letter_list\\').hide();}, complete:function(request){$(\\'#letter_list\\').show();$(\\'#loader\\').hide();$(\\'#\\'+\\'17\\').show();}, success:function(request){jQuery(\\'#letter_list\\').html(request);tb_init(\\'a.thickbox, area.thickbox, input.thickbox\\');}, type:\\'get\\', url:\\'/browse?junk=1448673064.36821&amp;letter=17\\'}); return false;\"><span lang=\"bo\" xml:lang=\"bo\" class=\"bo\">&#3929;</span></a>\\n\\t\\n\\t\\n\\t</td>\\n\\n\\t<td>\\n\\t \\n\\t\\n\\t<a href=\"#\" onclick=\"jQuery.ajax({beforeSend:function(request){$(\\'#loader\\').show();clear_bars();$(\\'#letter_list\\').hide();}, complete:function(request){$(\\'#letter_list\\').show();$(\\'#loader\\').hide();$(\\'#\\'+\\'18\\').show();}, success:function(request){jQuery(\\'#letter_list\\').html(request);tb_init(\\'a.thickbox, area.thickbox, input.thickbox\\');}, type:\\'get\\', url:\\'/browse?junk=1448673064.37231&amp;letter=18\\'}); return false;\"><span lang=\"bo\" xml:lang=\"bo\" class=\"bo\">&#3930;</span></a>\\n\\t\\n\\t\\n\\t</td>\\n\\n\\t<td>\\n\\t \\n\\t\\n\\t<a href=\"#\" onclick=\"jQuery.ajax({beforeSend:function(request){$(\\'#loader\\').show();clear_bars();$(\\'#letter_list\\').hide();}, complete:function(request){$(\\'#letter_list\\').show();$(\\'#loader\\').hide();$(\\'#\\'+\\'19\\').show();}, success:function(request){jQuery(\\'#letter_list\\').html(request);tb_init(\\'a.thickbox, area.thickbox, input.thickbox\\');}, type:\\'get\\', url:\\'/browse?junk=1448673064.37667&amp;letter=19\\'}); return false;\"><span lang=\"bo\" xml:lang=\"bo\" class=\"bo\">&#3931;</span></a>\\n\\t\\n\\t\\n\\t</td>\\n\\n\\t<td>\\n\\t \\n\\t\\n\\t<a href=\"#\" onclick=\"jQuery.ajax({beforeSend:function(request){$(\\'#loader\\').show();clear_bars();$(\\'#letter_list\\').hide();}, complete:function(request){$(\\'#letter_list\\').show();$(\\'#loader\\').hide();$(\\'#\\'+\\'20\\').show();}, success:function(request){jQuery(\\'#letter_list\\').html(request);tb_init(\\'a.thickbox, area.thickbox, input.thickbox\\');}, type:\\'get\\', url:\\'/browse?junk=1448673064.3814&amp;letter=20\\'}); return false;\"><span lang=\"bo\" xml:lang=\"bo\" class=\"bo\">&#3933;</span></a>\\n\\t\\n\\t\\n\\t</td>\\n\\n\\t<td>\\n\\t \\n\\t\\n\\t<a href=\"#\" onclick=\"jQuery.ajax({beforeSend:function(request){$(\\'#loader\\').show();clear_bars();$(\\'#letter_list\\').hide();}, complete:function(request){$(\\'#letter_list\\').show();$(\\'#loader\\').hide();$(\\'#\\'+\\'21\\').show();}, success:function(request){jQuery(\\'#letter_list\\').html(request);tb_init(\\'a.thickbox, area.thickbox, input.thickbox\\');}, type:\\'get\\', url:\\'/browse?junk=1448673064.39713&amp;letter=21\\'}); return false;\"><span lang=\"bo\" xml:lang=\"bo\" class=\"bo\">&#3934;</span></a>\\n\\t\\n\\t\\n\\t</td>\\n\\n\\t<td>\\n\\t \\n\\t\\n\\t<a href=\"#\" onclick=\"jQuery.ajax({beforeSend:function(request){$(\\'#loader\\').show();clear_bars();$(\\'#letter_list\\').hide();}, complete:function(request){$(\\'#letter_list\\').show();$(\\'#loader\\').hide();$(\\'#\\'+\\'22\\').show();}, success:function(request){jQuery(\\'#letter_list\\').html(request);tb_init(\\'a.thickbox, area.thickbox, input.thickbox\\');}, type:\\'get\\', url:\\'/browse?junk=1448673064.40692&amp;letter=22\\'}); return false;\"><span lang=\"bo\" xml:lang=\"bo\" class=\"bo\">&#3935;</span></a>\\n\\t\\n\\t\\n\\t</td>\\n\\n\\t<td>\\n\\t \\n\\t\\n\\t<a href=\"#\" onclick=\"jQuery.ajax({beforeSend:function(request){$(\\'#loader\\').show();clear_bars();$(\\'#letter_list\\').hide();}, complete:function(request){$(\\'#letter_list\\').show();$(\\'#loader\\').hide();$(\\'#\\'+\\'23\\').show();}, success:function(request){jQuery(\\'#letter_list\\').html(request);tb_init(\\'a.thickbox, area.thickbox, input.thickbox\\');}, type:\\'get\\', url:\\'/browse?junk=1448673064.42153&amp;letter=23\\'}); return false;\"><span lang=\"bo\" xml:lang=\"bo\" class=\"bo\">&#3936;</span></a>\\n\\t\\n\\t\\n\\t</td>\\n\\n\\t<td>\\n\\t \\n\\t\\n\\t<a href=\"#\" onclick=\"jQuery.ajax({beforeSend:function(request){$(\\'#loader\\').show();clear_bars();$(\\'#letter_list\\').hide();}, complete:function(request){$(\\'#letter_list\\').show();$(\\'#loader\\').hide();$(\\'#\\'+\\'24\\').show();}, success:function(request){jQuery(\\'#letter_list\\').html(request);tb_init(\\'a.thickbox, area.thickbox, input.thickbox\\');}, type:\\'get\\', url:\\'/browse?junk=1448673064.43619&amp;letter=24\\'}); return false;\"><span lang=\"bo\" xml:lang=\"bo\" class=\"bo\">&#3937;</span></a>\\n\\t\\n\\t\\n\\t</td>\\n\\n\\t<td>\\n\\t \\n\\t\\n\\t<a href=\"#\" onclick=\"jQuery.ajax({beforeSend:function(request){$(\\'#loader\\').show();clear_bars();$(\\'#letter_list\\').hide();}, complete:function(request){$(\\'#letter_list\\').show();$(\\'#loader\\').hide();$(\\'#\\'+\\'25\\').show();}, success:function(request){jQuery(\\'#letter_list\\').html(request);tb_init(\\'a.thickbox, area.thickbox, input.thickbox\\');}, type:\\'get\\', url:\\'/browse?junk=1448673064.45268&amp;letter=25\\'}); return false;\"><span lang=\"bo\" xml:lang=\"bo\" class=\"bo\">&#3938;</span></a>\\n\\t\\n\\t\\n\\t</td>\\n\\n\\t<td>\\n\\t \\n\\t\\n\\t<a href=\"#\" onclick=\"jQuery.ajax({beforeSend:function(request){$(\\'#loader\\').show();clear_bars();$(\\'#letter_list\\').hide();}, complete:function(request){$(\\'#letter_list\\').show();$(\\'#loader\\').hide();$(\\'#\\'+\\'26\\').show();}, success:function(request){jQuery(\\'#letter_list\\').html(request);tb_init(\\'a.thickbox, area.thickbox, input.thickbox\\');}, type:\\'get\\', url:\\'/browse?junk=1448673064.47009&amp;letter=26\\'}); return false;\"><span lang=\"bo\" xml:lang=\"bo\" class=\"bo\">&#3939;</span></a>\\n\\t\\n\\t\\n\\t</td>\\n\\n\\t<td>\\n\\t \\n\\t\\n\\t<a href=\"#\" onclick=\"jQuery.ajax({beforeSend:function(request){$(\\'#loader\\').show();clear_bars();$(\\'#letter_list\\').hide();}, complete:function(request){$(\\'#letter_list\\').show();$(\\'#loader\\').hide();$(\\'#\\'+\\'27\\').show();}, success:function(request){jQuery(\\'#letter_list\\').html(request);tb_init(\\'a.thickbox, area.thickbox, input.thickbox\\');}, type:\\'get\\', url:\\'/browse?junk=1448673064.48129&amp;letter=27\\'}); return false;\"><span lang=\"bo\" xml:lang=\"bo\" class=\"bo\">&#3940;</span></a>\\n\\t\\n\\t\\n\\t</td>\\n\\n\\t<td>\\n\\t \\n\\t\\n\\t<a href=\"#\" onclick=\"jQuery.ajax({beforeSend:function(request){$(\\'#loader\\').show();clear_bars();$(\\'#letter_list\\').hide();}, complete:function(request){$(\\'#letter_list\\').show();$(\\'#loader\\').hide();$(\\'#\\'+\\'28\\').show();}, success:function(request){jQuery(\\'#letter_list\\').html(request);tb_init(\\'a.thickbox, area.thickbox, input.thickbox\\');}, type:\\'get\\', url:\\'/browse?junk=1448673064.48952&amp;letter=28\\'}); return false;\"><span lang=\"bo\" xml:lang=\"bo\" class=\"bo\">&#3942;</span></a>\\n\\t\\n\\t\\n\\t</td>\\n\\n\\t<td>\\n\\t \\n\\t\\n\\t<a href=\"#\" onclick=\"jQuery.ajax({beforeSend:function(request){$(\\'#loader\\').show();clear_bars();$(\\'#letter_list\\').hide();}, complete:function(request){$(\\'#letter_list\\').show();$(\\'#loader\\').hide();$(\\'#\\'+\\'29\\').show();}, success:function(request){jQuery(\\'#letter_list\\').html(request);tb_init(\\'a.thickbox, area.thickbox, input.thickbox\\');}, type:\\'get\\', url:\\'/browse?junk=1448673064.50378&amp;letter=29\\'}); return false;\"><span lang=\"bo\" xml:lang=\"bo\" class=\"bo\">&#3943;</span></a>\\n\\t\\n\\t\\n\\t</td>\\n\\n\\t<td>\\n\\t \\n\\t\\n\\t<a href=\"#\" onclick=\"jQuery.ajax({beforeSend:function(request){$(\\'#loader\\').show();clear_bars();$(\\'#letter_list\\').hide();}, complete:function(request){$(\\'#letter_list\\').show();$(\\'#loader\\').hide();$(\\'#\\'+\\'30\\').show();}, success:function(request){jQuery(\\'#letter_list\\').html(request);tb_init(\\'a.thickbox, area.thickbox, input.thickbox\\');}, type:\\'get\\', url:\\'/browse?junk=1448673064.5136&amp;letter=30\\'}); return false;\"><span lang=\"bo\" xml:lang=\"bo\" class=\"bo\">&#3944;</span></a>\\n\\t\\n\\t\\n\\t</td>\\n\\n\\t</tr>\\n\\t\\t<tr>\\n\\t\\n\\t\\t<td>\\n\\t\\t\\t<img alt=\"Bar\" id=\"1\" src=\"/images/bar.png?1281416203\" style=\"display:none\" />\\n\\t\\t</td>\\n\\t\\n\\t\\t<td>\\n\\t\\t\\t<img alt=\"Bar\" id=\"2\" src=\"/images/bar.png?1281416203\" style=\"display:none\" />\\n\\t\\t</td>\\n\\t\\n\\t\\t<td>\\n\\t\\t\\t<img alt=\"Bar\" id=\"3\" src=\"/images/bar.png?1281416203\" style=\"display:none\" />\\n\\t\\t</td>\\n\\t\\n\\t\\t<td>\\n\\t\\t\\t<img alt=\"Bar\" id=\"4\" src=\"/images/bar.png?1281416203\" style=\"display:none\" />\\n\\t\\t</td>\\n\\t\\n\\t\\t<td>\\n\\t\\t\\t<img alt=\"Bar\" id=\"5\" src=\"/images/bar.png?1281416203\" style=\"display:none\" />\\n\\t\\t</td>\\n\\t\\n\\t\\t<td>\\n\\t\\t\\t<img alt=\"Bar\" id=\"6\" src=\"/images/bar.png?1281416203\" style=\"display:none\" />\\n\\t\\t</td>\\n\\t\\n\\t\\t<td>\\n\\t\\t\\t<img alt=\"Bar\" id=\"7\" src=\"/images/bar.png?1281416203\" style=\"display:none\" />\\n\\t\\t</td>\\n\\t\\n\\t\\t<td>\\n\\t\\t\\t<img alt=\"Bar\" id=\"8\" src=\"/images/bar.png?1281416203\" style=\"display:none\" />\\n\\t\\t</td>\\n\\t\\n\\t\\t<td>\\n\\t\\t\\t<img alt=\"Bar\" id=\"9\" src=\"/images/bar.png?1281416203\" style=\"display:none\" />\\n\\t\\t</td>\\n\\t\\n\\t\\t<td>\\n\\t\\t\\t<img alt=\"Bar\" id=\"10\" src=\"/images/bar.png?1281416203\" style=\"display:none\" />\\n\\t\\t</td>\\n\\t\\n\\t\\t<td>\\n\\t\\t\\t<img alt=\"Bar\" id=\"11\" src=\"/images/bar.png?1281416203\" style=\"display:none\" />\\n\\t\\t</td>\\n\\t\\n\\t\\t<td>\\n\\t\\t\\t<img alt=\"Bar\" id=\"12\" src=\"/images/bar.png?1281416203\" style=\"display:none\" />\\n\\t\\t</td>\\n\\t\\n\\t\\t<td>\\n\\t\\t\\t<img alt=\"Bar\" id=\"13\" src=\"/images/bar.png?1281416203\" style=\"display:none\" />\\n\\t\\t</td>\\n\\t\\n\\t\\t<td>\\n\\t\\t\\t<img alt=\"Bar\" id=\"14\" src=\"/images/bar.png?1281416203\" style=\"display:none\" />\\n\\t\\t</td>\\n\\t\\n\\t\\t<td>\\n\\t\\t\\t<img alt=\"Bar\" id=\"15\" src=\"/images/bar.png?1281416203\" style=\"display:none\" />\\n\\t\\t</td>\\n\\t\\n\\t\\t<td>\\n\\t\\t\\t<img alt=\"Bar\" id=\"16\" src=\"/images/bar.png?1281416203\" style=\"display:none\" />\\n\\t\\t</td>\\n\\t\\n\\t\\t<td>\\n\\t\\t\\t<img alt=\"Bar\" id=\"17\" src=\"/images/bar.png?1281416203\" style=\"display:none\" />\\n\\t\\t</td>\\n\\t\\n\\t\\t<td>\\n\\t\\t\\t<img alt=\"Bar\" id=\"18\" src=\"/images/bar.png?1281416203\" style=\"display:none\" />\\n\\t\\t</td>\\n\\t\\n\\t\\t<td>\\n\\t\\t\\t<img alt=\"Bar\" id=\"19\" src=\"/images/bar.png?1281416203\" style=\"display:none\" />\\n\\t\\t</td>\\n\\t\\n\\t\\t<td>\\n\\t\\t\\t<img alt=\"Bar\" id=\"20\" src=\"/images/bar.png?1281416203\" style=\"display:none\" />\\n\\t\\t</td>\\n\\t\\n\\t\\t<td>\\n\\t\\t\\t<img alt=\"Bar\" id=\"21\" src=\"/images/bar.png?1281416203\" style=\"display:none\" />\\n\\t\\t</td>\\n\\t\\n\\t\\t<td>\\n\\t\\t\\t<img alt=\"Bar\" id=\"22\" src=\"/images/bar.png?1281416203\" style=\"display:none\" />\\n\\t\\t</td>\\n\\t\\n\\t\\t<td>\\n\\t\\t\\t<img alt=\"Bar\" id=\"23\" src=\"/images/bar.png?1281416203\" style=\"display:none\" />\\n\\t\\t</td>\\n\\t\\n\\t\\t<td>\\n\\t\\t\\t<img alt=\"Bar\" id=\"24\" src=\"/images/bar.png?1281416203\" style=\"display:none\" />\\n\\t\\t</td>\\n\\t\\n\\t\\t<td>\\n\\t\\t\\t<img alt=\"Bar\" id=\"25\" src=\"/images/bar.png?1281416203\" style=\"display:none\" />\\n\\t\\t</td>\\n\\t\\n\\t\\t<td>\\n\\t\\t\\t<img alt=\"Bar\" id=\"26\" src=\"/images/bar.png?1281416203\" style=\"display:none\" />\\n\\t\\t</td>\\n\\t\\n\\t\\t<td>\\n\\t\\t\\t<img alt=\"Bar\" id=\"27\" src=\"/images/bar.png?1281416203\" style=\"display:none\" />\\n\\t\\t</td>\\n\\t\\n\\t\\t<td>\\n\\t\\t\\t<img alt=\"Bar\" id=\"28\" src=\"/images/bar.png?1281416203\" style=\"display:none\" />\\n\\t\\t</td>\\n\\t\\n\\t\\t<td>\\n\\t\\t\\t<img alt=\"Bar\" id=\"29\" src=\"/images/bar.png?1281416203\" style=\"display:none\" />\\n\\t\\t</td>\\n\\t\\n\\t\\t<td>\\n\\t\\t\\t<img alt=\"Bar\" id=\"30\" src=\"/images/bar.png?1281416203\" style=\"display:none\" />\\n\\t\\t</td>\\n\\t\\n\\t\\t</tr>\\n</table>\\n<hr>\\n<div id=\"loader\" style=\"display:none\"><img alt=\"Loadinganimation2\" src=\"/images/loadingAnimation2.gif?1281416204\" /></div>\\n\\n\\t\\n<!--\\t<input alt=\"#TB_inline?height=300&width=400&inlineId=myOnPageContent\" title=\"add a caption to title attribute / or leave blank\" class=\"thickbox\" type=\"button\" value=\"Show\" />  \\n<div id=\"myOnPageContent\"><p>algo para mostrar</p></div>\\n<br> -->\\n<div id=\"letter_list\">\\n\\tClicking a Tibetan letter above will give you a list of every 100th Tibetan term with that root letter. Clicking on one of the terms will then expand the full set of 100 terms beginning with that term. You can thus quickly browse to find the range where your term will be.  Clicking on any of the resultant terms will then expand the corresponding dictionary entry within the browsing mode. If you prefer to see only the entry on the screen, click on the word \"view\" to the right of the term you want to view.\\n</div>\\n\\t\\t\\n      \\t  </div>\\n    \\t  \\n      \\t</div>\\n      \\n\\t</div>\\n</div>\\n'"
      ]
     },
     "execution_count": 15,
     "metadata": {},
     "output_type": "execute_result"
    }
   ],
   "source": [
    "res1.text"
   ]
  },
  {
   "cell_type": "code",
   "execution_count": 16,
   "metadata": {
    "collapsed": true
   },
   "outputs": [],
   "source": [
    "S = PyQuery(res1.text)"
   ]
  },
  {
   "cell_type": "code",
   "execution_count": 17,
   "metadata": {
    "collapsed": false
   },
   "outputs": [
    {
     "data": {
      "text/plain": [
       "['http://dictionary.thlib.org/browse?junk=1448673064.22623&letter=1', 'http://dictionary.thlib.org/browse?junk=1448673064.26009&letter=2', 'http://dictionary.thlib.org/browse?junk=1448673064.28087&letter=3', 'http://dictionary.thlib.org/browse?junk=1448673064.29366&letter=4', 'http://dictionary.thlib.org/browse?junk=1448673064.29785&letter=5', 'http://dictionary.thlib.org/browse?junk=1448673064.31314&letter=6', 'http://dictionary.thlib.org/browse?junk=1448673064.32013&letter=7', 'http://dictionary.thlib.org/browse?junk=1448673064.34791&letter=8', 'http://dictionary.thlib.org/browse?junk=1448673064.34922&letter=9', 'http://dictionary.thlib.org/browse?junk=1448673064.35182&letter=10', 'http://dictionary.thlib.org/browse?junk=1448673064.3566&letter=11', 'http://dictionary.thlib.org/browse?junk=1448673064.35959&letter=12', 'http://dictionary.thlib.org/browse?junk=1448673064.36058&letter=13', 'http://dictionary.thlib.org/browse?junk=1448673064.36176&letter=14', 'http://dictionary.thlib.org/browse?junk=1448673064.3628&letter=15', 'http://dictionary.thlib.org/browse?junk=1448673064.36491&letter=16', 'http://dictionary.thlib.org/browse?junk=1448673064.36821&letter=17', 'http://dictionary.thlib.org/browse?junk=1448673064.37231&letter=18', 'http://dictionary.thlib.org/browse?junk=1448673064.37667&letter=19', 'http://dictionary.thlib.org/browse?junk=1448673064.3814&letter=20', 'http://dictionary.thlib.org/browse?junk=1448673064.39713&letter=21', 'http://dictionary.thlib.org/browse?junk=1448673064.40692&letter=22', 'http://dictionary.thlib.org/browse?junk=1448673064.42153&letter=23', 'http://dictionary.thlib.org/browse?junk=1448673064.43619&letter=24', 'http://dictionary.thlib.org/browse?junk=1448673064.45268&letter=25', 'http://dictionary.thlib.org/browse?junk=1448673064.47009&letter=26', 'http://dictionary.thlib.org/browse?junk=1448673064.48129&letter=27', 'http://dictionary.thlib.org/browse?junk=1448673064.48952&letter=28', 'http://dictionary.thlib.org/browse?junk=1448673064.50378&letter=29', 'http://dictionary.thlib.org/browse?junk=1448673064.5136&letter=30']"
      ]
     },
     "execution_count": 17,
     "metadata": {},
     "output_type": "execute_result"
    }
   ],
   "source": [
    "S(\"#alphabet a\").map(lambda i,e:\"http://dictionary.thlib.org\"+PyQuery(e).attr(\"onclick\").split(\"url:'\")[-1].split(\"'\")[0])"
   ]
  },
  {
   "cell_type": "code",
   "execution_count": 22,
   "metadata": {
    "collapsed": true
   },
   "outputs": [],
   "source": [
    "def getLetterPageURL(letter_id):\n",
    "    return \"http://dictionary.thlib.org/browse?letter={letter_id}\".format(letter_id=letter_id)"
   ]
  },
  {
   "cell_type": "code",
   "execution_count": 23,
   "metadata": {
    "collapsed": true
   },
   "outputs": [],
   "source": [
    "lettersUrls = map(getLetterPageUrl,range(1,31))"
   ]
  },
  {
   "cell_type": "code",
   "execution_count": 24,
   "metadata": {
    "collapsed": false
   },
   "outputs": [
    {
     "name": "stdout",
     "output_type": "stream",
     "text": [
      "['http://dictionary.thlib.org/browse?letter=1', 'http://dictionary.thlib.org/browse?letter=2', 'http://dictionary.thlib.org/browse?letter=3', 'http://dictionary.thlib.org/browse?letter=4', 'http://dictionary.thlib.org/browse?letter=5', 'http://dictionary.thlib.org/browse?letter=6', 'http://dictionary.thlib.org/browse?letter=7', 'http://dictionary.thlib.org/browse?letter=8', 'http://dictionary.thlib.org/browse?letter=9', 'http://dictionary.thlib.org/browse?letter=10', 'http://dictionary.thlib.org/browse?letter=11', 'http://dictionary.thlib.org/browse?letter=12', 'http://dictionary.thlib.org/browse?letter=13', 'http://dictionary.thlib.org/browse?letter=14', 'http://dictionary.thlib.org/browse?letter=15', 'http://dictionary.thlib.org/browse?letter=16', 'http://dictionary.thlib.org/browse?letter=17', 'http://dictionary.thlib.org/browse?letter=18', 'http://dictionary.thlib.org/browse?letter=19', 'http://dictionary.thlib.org/browse?letter=20', 'http://dictionary.thlib.org/browse?letter=21', 'http://dictionary.thlib.org/browse?letter=22', 'http://dictionary.thlib.org/browse?letter=23', 'http://dictionary.thlib.org/browse?letter=24', 'http://dictionary.thlib.org/browse?letter=25', 'http://dictionary.thlib.org/browse?letter=26', 'http://dictionary.thlib.org/browse?letter=27', 'http://dictionary.thlib.org/browse?letter=28', 'http://dictionary.thlib.org/browse?letter=29', 'http://dictionary.thlib.org/browse?letter=30']\n"
     ]
    }
   ],
   "source": [
    "print lettersUrls"
   ]
  },
  {
   "cell_type": "code",
   "execution_count": 26,
   "metadata": {
    "collapsed": true
   },
   "outputs": [],
   "source": [
    "res = requests.get(lettersUrls[0])"
   ]
  },
  {
   "cell_type": "code",
   "execution_count": 27,
   "metadata": {
    "collapsed": true
   },
   "outputs": [],
   "source": [
    "S = PyQuery(res.text)"
   ]
  },
  {
   "cell_type": "code",
   "execution_count": 35,
   "metadata": {
    "collapsed": false
   },
   "outputs": [
    {
     "data": {
      "text/plain": [
       "'http://dictionary.thlib.org/internal_definitions/alphabet_sub_list?letter=1&offset=13500'"
      ]
     },
     "execution_count": 35,
     "metadata": {},
     "output_type": "execute_result"
    }
   ],
   "source": [
    "S(\"a[id]\").map(lambda i,e: \"http://dictionary.thlib.org\" + PyQuery(e).attr(\"onclick\").split(\"url:'\")[-1].split(\"'\")[0])[-1]"
   ]
  },
  {
   "cell_type": "code",
   "execution_count": null,
   "metadata": {
    "collapsed": true
   },
   "outputs": [],
   "source": []
  },
  {
   "cell_type": "code",
   "execution_count": 25,
   "metadata": {
    "collapsed": true
   },
   "outputs": [],
   "source": [
    "def getLetterOffsetURL(letter_id, offset):\n",
    "    return \"http://dictionary.thlib.org/internal_definitions/alphabet_sub_list?letter={letter_id}&offset={offset}\".format(letter_id=letter_id,offset=offset)\n"
   ]
  },
  {
   "cell_type": "code",
   "execution_count": null,
   "metadata": {
    "collapsed": true
   },
   "outputs": [],
   "source": []
  }
 ],
 "metadata": {
  "kernelspec": {
   "display_name": "Python 2",
   "language": "python",
   "name": "python2"
  },
  "language_info": {
   "codemirror_mode": {
    "name": "ipython",
    "version": 2
   },
   "file_extension": ".py",
   "mimetype": "text/x-python",
   "name": "python",
   "nbconvert_exporter": "python",
   "pygments_lexer": "ipython2",
   "version": "2.7.10"
  }
 },
 "nbformat": 4,
 "nbformat_minor": 0
}
